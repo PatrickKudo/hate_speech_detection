{
  "cells": [
    {
      "cell_type": "code",
      "execution_count": 1,
      "id": "044c20a9-9822-4d5e-8dd0-87b0ba27ba97",
      "metadata": {
        "colab": {
          "base_uri": "https://localhost:8080/"
        },
        "id": "044c20a9-9822-4d5e-8dd0-87b0ba27ba97",
        "outputId": "9f1eb6fd-895a-46da-cb0e-f590fe885cc4"
      },
      "outputs": [
        {
          "output_type": "stream",
          "name": "stdout",
          "text": [
            "Collecting np_utils\n",
            "  Downloading np_utils-0.6.0.tar.gz (61 kB)\n",
            "\u001b[?25l     \u001b[90m━━━━━━━━━━━━━━━━━━━━━━━━━━━━━━━━━━━━━━━━\u001b[0m \u001b[32m0.0/62.0 kB\u001b[0m \u001b[31m?\u001b[0m eta \u001b[36m-:--:--\u001b[0m\r\u001b[2K     \u001b[90m━━━━━━━━━━━━━━━━━━━━━━━━━━━━━━━━━━━━━━━━\u001b[0m \u001b[32m62.0/62.0 kB\u001b[0m \u001b[31m2.9 MB/s\u001b[0m eta \u001b[36m0:00:00\u001b[0m\n",
            "\u001b[?25h  Preparing metadata (setup.py) ... \u001b[?25l\u001b[?25hdone\n",
            "Requirement already satisfied: numpy>=1.0 in /usr/local/lib/python3.10/dist-packages (from np_utils) (1.26.4)\n",
            "Building wheels for collected packages: np_utils\n",
            "  Building wheel for np_utils (setup.py) ... \u001b[?25l\u001b[?25hdone\n",
            "  Created wheel for np_utils: filename=np_utils-0.6.0-py3-none-any.whl size=56437 sha256=ed11589d68da07c85e7e75fdb8fca5b773805859905f32fb60075a0d6ba94ef7\n",
            "  Stored in directory: /root/.cache/pip/wheels/b6/c7/50/2307607f44366dd021209f660045f8d51cb976514d30be7cc7\n",
            "Successfully built np_utils\n",
            "Installing collected packages: np_utils\n",
            "Successfully installed np_utils-0.6.0\n"
          ]
        }
      ],
      "source": [
        "!pip install np_utils"
      ]
    },
    {
      "cell_type": "code",
      "execution_count": 2,
      "id": "34a8eccf-fe22-44d2-81b1-a8c267470822",
      "metadata": {
        "id": "34a8eccf-fe22-44d2-81b1-a8c267470822"
      },
      "outputs": [],
      "source": [
        "import os\n",
        "import numpy as np\n",
        "import pandas as pd\n",
        "from sklearn.preprocessing import LabelEncoder\n",
        "import nltk\n",
        "import re\n",
        "from nltk.stem import PorterStemmer\n",
        "from nltk.corpus import stopwords\n",
        "from sklearn.model_selection import train_test_split\n",
        "from sklearn.feature_extraction.text import CountVectorizer\n",
        "from sklearn.naive_bayes import MultinomialNB\n",
        "from sklearn.metrics import accuracy_score\n",
        "from sklearn.metrics import confusion_matrix\n",
        "import matplotlib.pyplot as plt\n",
        "import seaborn as sns\n",
        "from nltk.stem import WordNetLemmatizer\n",
        "import itertools\n",
        "from wordcloud import WordCloud\n",
        "from sklearn.svm import SVC\n",
        "from keras.models import Sequential,Model\n",
        "from keras.layers import Dense,LSTM, SpatialDropout1D, Embedding\n",
        "from keras.utils import to_categorical\n",
        "from joblib import dump, load"
      ]
    },
    {
      "cell_type": "code",
      "execution_count": 3,
      "id": "cd7150d5-4a78-42e0-914d-8333d59438c4",
      "metadata": {
        "id": "cd7150d5-4a78-42e0-914d-8333d59438c4"
      },
      "outputs": [],
      "source": [
        "text = []\n",
        "clas = []\n",
        "df = pd.read_csv('labeled_data.csv')\n",
        "text = df['tweet'].tolist()\n",
        "clas = df['class'].tolist()\n",
        "\n",
        "df = pd.DataFrame({'tweet': text, 'class': clas})"
      ]
    },
    {
      "cell_type": "code",
      "execution_count": 4,
      "id": "75bab1bf-9207-404a-85bf-cafbd6e2104c",
      "metadata": {
        "colab": {
          "base_uri": "https://localhost:8080/"
        },
        "id": "75bab1bf-9207-404a-85bf-cafbd6e2104c",
        "outputId": "453d55c4-b5a2-41e0-f1cb-0d2422ed64d4"
      },
      "outputs": [
        {
          "output_type": "stream",
          "name": "stdout",
          "text": [
            "tweet    0\n",
            "class    0\n",
            "dtype: int64\n"
          ]
        }
      ],
      "source": [
        "print(df.isnull().sum())\n",
        "df['tweet'] = df['tweet'].apply(lambda x:x.lower())\n",
        "punctuation_signs = list(\"?:!.,;\")\n",
        "df['tweet'] = df['tweet']\n",
        "\n",
        "for punct_sign in punctuation_signs:\n",
        "    df['tweet'] = df['tweet'].str.replace(punct_sign, '')\n",
        "\n",
        "df['tweet'] = df['tweet'].apply(lambda x: x.replace('\\n', ' '))\n",
        "df['tweet'] = df['tweet'].apply(lambda x: x.replace('\\t', ' '))\n",
        "df['tweet'] = df['tweet'].str.replace(\"    \", \" \")\n",
        "df['tweet'] = df['tweet'].str.replace('\"', '')\n",
        "df['tweet'] = df['tweet'].str.replace(\"'s\", \"\")"
      ]
    },
    {
      "cell_type": "code",
      "execution_count": 5,
      "id": "526e2829-e864-4196-98d7-0f1ed0396e24",
      "metadata": {
        "colab": {
          "base_uri": "https://localhost:8080/"
        },
        "id": "526e2829-e864-4196-98d7-0f1ed0396e24",
        "outputId": "6806a861-c122-488b-e8ad-01569f9707a5"
      },
      "outputs": [
        {
          "output_type": "stream",
          "name": "stderr",
          "text": [
            "[nltk_data] Downloading package stopwords to /root/nltk_data...\n",
            "[nltk_data]   Unzipping corpora/stopwords.zip.\n"
          ]
        }
      ],
      "source": [
        "nltk.download('stopwords')\n",
        "stop_words = list(stopwords.words('english'))\n",
        "for stop_word in stop_words:\n",
        "    regex_stopword = r\"\\b\" + stop_word + r\"\\b\"\n",
        "    df['tweet'] = df['tweet'].str.replace(regex_stopword, '')"
      ]
    },
    {
      "cell_type": "code",
      "execution_count": 6,
      "id": "3f766dde-2332-471f-b83c-adf3b0cbad13",
      "metadata": {
        "id": "3f766dde-2332-471f-b83c-adf3b0cbad13"
      },
      "outputs": [],
      "source": [
        "cv = CountVectorizer(max_features = 75)\n",
        "X = cv.fit_transform(df['tweet']).toarray()\n",
        "y = df['class']"
      ]
    },
    {
      "cell_type": "code",
      "execution_count": 7,
      "id": "70d4d533-e9e2-44d3-88dc-1f4fc0f73f66",
      "metadata": {
        "id": "70d4d533-e9e2-44d3-88dc-1f4fc0f73f66"
      },
      "outputs": [],
      "source": [
        "\n",
        "\n",
        "X_train, X_test, y_train, y_test = train_test_split(X, y, test_size = 0.2, stratify=y, random_state = 42)\n",
        "\n"
      ]
    },
    {
      "cell_type": "code",
      "execution_count": 8,
      "id": "d1c8db29-c191-4df4-bc52-e2155b076ff6",
      "metadata": {
        "id": "d1c8db29-c191-4df4-bc52-e2155b076ff6"
      },
      "outputs": [],
      "source": [
        "def plot_confusion_matrix(cm, classes,\n",
        "                          normalize=False,\n",
        "                          title='Confusion matrix',\n",
        "                              cmap=plt.cm.Blues):\n",
        "\n",
        "    plt.imshow(cm, interpolation='nearest', cmap=cmap)\n",
        "    plt.title(title)\n",
        "    plt.colorbar()\n",
        "    tick_marks = np.arange(len(classes))\n",
        "    plt.xticks(tick_marks, classes, rotation=45)\n",
        "    plt.yticks(tick_marks, classes)\n",
        "\n",
        "    if normalize:\n",
        "        cm = cm.astype('float') / cm.sum(axis=1)[:, np.newaxis]\n",
        "\n",
        "    thresh = cm.max() / 2.\n",
        "    for i, j in itertools.product(range(cm.shape[0]), range(cm.shape[1])):\n",
        "        plt.text(j, i, cm[i, j],\n",
        "                 horizontalalignment=\"center\",\n",
        "                 color=\"white\" if cm[i, j] > thresh else \"black\")\n",
        "\n",
        "    plt.tight_layout()\n",
        "    plt.ylabel('True label')\n",
        "    plt.xlabel('Predicted label')"
      ]
    },
    {
      "cell_type": "code",
      "execution_count": 9,
      "id": "051fd212-bd1f-41bb-8953-2d03ac39a0f3",
      "metadata": {
        "id": "051fd212-bd1f-41bb-8953-2d03ac39a0f3"
      },
      "outputs": [],
      "source": [
        "\n",
        "\n",
        "y_train=to_categorical(y_train, num_classes = 3)\n",
        "y_test=to_categorical(y_test, num_classes = 3)\n",
        "\n"
      ]
    },
    {
      "cell_type": "code",
      "execution_count": 10,
      "id": "b942ea34-4356-4cd3-ab52-3a9d49f32bf1",
      "metadata": {
        "colab": {
          "base_uri": "https://localhost:8080/"
        },
        "id": "b942ea34-4356-4cd3-ab52-3a9d49f32bf1",
        "outputId": "6e00136f-2eef-4a07-de7b-fe0959ac5c03"
      },
      "outputs": [
        {
          "output_type": "stream",
          "name": "stderr",
          "text": [
            "WARNING:tensorflow:Layer lstm will not use cuDNN kernels since it doesn't meet the criteria. It will use a generic GPU kernel as fallback when running on GPU.\n"
          ]
        },
        {
          "output_type": "stream",
          "name": "stdout",
          "text": [
            "Epoch 1/25\n",
            "310/310 [==============================] - 91s 272ms/step - loss: 0.4252 - accuracy: 0.7684 - val_loss: 0.4027 - val_accuracy: 0.7743\n",
            "Epoch 2/25\n",
            "310/310 [==============================] - 75s 241ms/step - loss: 0.4021 - accuracy: 0.7743 - val_loss: 0.4026 - val_accuracy: 0.7743\n",
            "Epoch 3/25\n",
            "310/310 [==============================] - 74s 238ms/step - loss: 0.4010 - accuracy: 0.7743 - val_loss: 0.4017 - val_accuracy: 0.7743\n",
            "Epoch 4/25\n",
            "310/310 [==============================] - 73s 235ms/step - loss: 0.4006 - accuracy: 0.7743 - val_loss: 0.4022 - val_accuracy: 0.7743\n",
            "Epoch 5/25\n",
            "310/310 [==============================] - 75s 242ms/step - loss: 0.4001 - accuracy: 0.7743 - val_loss: 0.4016 - val_accuracy: 0.7743\n",
            "Epoch 6/25\n",
            "310/310 [==============================] - 74s 237ms/step - loss: 0.3995 - accuracy: 0.7743 - val_loss: 0.4022 - val_accuracy: 0.7743\n",
            "Epoch 7/25\n",
            "310/310 [==============================] - 75s 242ms/step - loss: 0.3988 - accuracy: 0.7743 - val_loss: 0.4009 - val_accuracy: 0.7743\n",
            "Epoch 8/25\n",
            "310/310 [==============================] - 74s 240ms/step - loss: 0.3983 - accuracy: 0.7743 - val_loss: 0.4010 - val_accuracy: 0.7743\n",
            "Epoch 9/25\n",
            "310/310 [==============================] - 73s 234ms/step - loss: 0.3980 - accuracy: 0.7743 - val_loss: 0.4001 - val_accuracy: 0.7743\n",
            "Epoch 10/25\n",
            "310/310 [==============================] - 77s 247ms/step - loss: 0.3971 - accuracy: 0.7743 - val_loss: 0.3971 - val_accuracy: 0.7743\n",
            "Epoch 11/25\n",
            "310/310 [==============================] - 74s 240ms/step - loss: 0.3921 - accuracy: 0.7743 - val_loss: 0.3881 - val_accuracy: 0.7743\n",
            "Epoch 12/25\n",
            "310/310 [==============================] - 72s 232ms/step - loss: 0.3877 - accuracy: 0.7743 - val_loss: 0.3789 - val_accuracy: 0.7743\n",
            "Epoch 13/25\n",
            "310/310 [==============================] - 74s 239ms/step - loss: 0.3846 - accuracy: 0.7743 - val_loss: 0.3906 - val_accuracy: 0.7743\n",
            "Epoch 14/25\n",
            "310/310 [==============================] - 75s 243ms/step - loss: 0.3785 - accuracy: 0.7743 - val_loss: 0.3735 - val_accuracy: 0.7743\n",
            "Epoch 15/25\n",
            "310/310 [==============================] - 73s 234ms/step - loss: 0.3777 - accuracy: 0.7743 - val_loss: 0.3681 - val_accuracy: 0.7743\n",
            "Epoch 16/25\n",
            "310/310 [==============================] - 74s 237ms/step - loss: 0.3741 - accuracy: 0.7743 - val_loss: 0.3728 - val_accuracy: 0.7743\n",
            "Epoch 17/25\n",
            "310/310 [==============================] - 72s 234ms/step - loss: 0.3696 - accuracy: 0.7743 - val_loss: 0.3650 - val_accuracy: 0.7743\n",
            "Epoch 18/25\n",
            "310/310 [==============================] - 76s 244ms/step - loss: 0.3695 - accuracy: 0.7743 - val_loss: 0.3614 - val_accuracy: 0.7743\n",
            "Epoch 19/25\n",
            "310/310 [==============================] - 74s 238ms/step - loss: 0.3667 - accuracy: 0.7744 - val_loss: 0.3581 - val_accuracy: 0.7743\n",
            "Epoch 20/25\n",
            "310/310 [==============================] - 72s 233ms/step - loss: 0.3668 - accuracy: 0.7744 - val_loss: 0.3607 - val_accuracy: 0.7743\n",
            "Epoch 21/25\n",
            "310/310 [==============================] - 75s 243ms/step - loss: 0.3589 - accuracy: 0.7734 - val_loss: 0.3531 - val_accuracy: 0.7743\n",
            "Epoch 22/25\n",
            "310/310 [==============================] - 72s 234ms/step - loss: 0.3569 - accuracy: 0.7749 - val_loss: 0.3539 - val_accuracy: 0.7749\n",
            "Epoch 23/25\n",
            "310/310 [==============================] - 74s 239ms/step - loss: 0.3909 - accuracy: 0.7738 - val_loss: 0.4010 - val_accuracy: 0.7743\n",
            "Epoch 24/25\n",
            "310/310 [==============================] - 73s 235ms/step - loss: 0.4023 - accuracy: 0.7743 - val_loss: 0.4018 - val_accuracy: 0.7743\n",
            "Epoch 25/25\n",
            "310/310 [==============================] - 75s 242ms/step - loss: 0.4002 - accuracy: 0.7743 - val_loss: 0.4008 - val_accuracy: 0.7743\n"
          ]
        }
      ],
      "source": [
        "model = Sequential()\n",
        "model.add(Embedding(232337, 100))\n",
        "model.add(SpatialDropout1D(0.2))\n",
        "model.add(LSTM(20, dropout=0.2, recurrent_dropout=0.2))\n",
        "model.add(Dense(3, activation='softmax'))\n",
        "model.compile(loss='binary_crossentropy', optimizer='adam', metrics=['accuracy'])\n",
        "\n",
        "epochs = 25\n",
        "batch_size = 64\n",
        "\n",
        "history = model.fit(X_train, y_train,validation_data = (X_test,y_test), epochs=epochs, batch_size=batch_size)"
      ]
    },
    {
      "cell_type": "code",
      "execution_count": 11,
      "id": "18b01040-bd52-4fb0-87fa-56d2785550da",
      "metadata": {
        "colab": {
          "base_uri": "https://localhost:8080/",
          "height": 887
        },
        "id": "18b01040-bd52-4fb0-87fa-56d2785550da",
        "outputId": "bfccb7bd-da5d-4a89-975b-2bc184464414"
      },
      "outputs": [
        {
          "output_type": "display_data",
          "data": {
            "text/plain": [
              "<Figure size 640x480 with 1 Axes>"
            ],
            "image/png": "[encoded data removed]"
          },
          "metadata": {}
        },
        {
          "output_type": "display_data",
          "data": {
            "text/plain": [
              "<Figure size 640x480 with 1 Axes>"
            ],
            "image/png": "[encoded data removed]"
          },
          "metadata": {}
        }
      ],
      "source": [
        "acc = history.history['accuracy']\n",
        "val_acc = history.history['val_accuracy']\n",
        "loss = history.history['loss']\n",
        "val_loss = history.history['val_loss']\n",
        "epochs = range(1, len(acc) + 1)\n",
        "plt.plot(epochs, acc, 'bo', label='Training accuracy')\n",
        "plt.plot(epochs, val_acc, 'r', label='Validation accuracy')\n",
        "plt.title('Training and validation accuracy')\n",
        "plt.legend()\n",
        "plt.figure()\n",
        "plt.plot(epochs, loss, 'bo', label='Training loss')\n",
        "plt.plot(epochs, val_loss, 'r', label='Validation loss')\n",
        "plt.title('Training and validation loss')\n",
        "plt.legend()\n",
        "plt.show()"
      ]
    },
    {
      "cell_type": "code",
      "execution_count": 12,
      "id": "18b9169d-aff1-4947-89ac-3481c947ea66",
      "metadata": {
        "colab": {
          "base_uri": "https://localhost:8080/"
        },
        "id": "18b9169d-aff1-4947-89ac-3481c947ea66",
        "outputId": "4c5c653b-8728-424e-c91b-947863a613e7"
      },
      "outputs": [
        {
          "output_type": "stream",
          "name": "stderr",
          "text": [
            "/usr/local/lib/python3.10/dist-packages/keras/src/engine/training.py:3103: UserWarning: You are saving your model as an HDF5 file via `model.save()`. This file format is considered legacy. We recommend using instead the native Keras format, e.g. `model.save('my_model.keras')`.\n",
            "  saving_api.save_model(\n"
          ]
        }
      ],
      "source": [
        "model.save('lstm.h5')"
      ]
    },
    {
      "cell_type": "code",
      "source": [
        "from wordcloud import WordCloud"
      ],
      "metadata": {
        "id": "R9h5bR1dgyfa"
      },
      "id": "R9h5bR1dgyfa",
      "execution_count": null,
      "outputs": []
    },
    {
      "cell_type": "code",
      "source": [
        "# Predict and calculate confusion matrix\n",
        "y_pred = model.predict(X_test)\n",
        "y_pred_classes = np.argmax(y_pred, axis=1)\n",
        "y_true = np.argmax(y_test, axis=1)\n",
        "cm = confusion_matrix(y_true, y_pred_classes)"
      ],
      "metadata": {
        "colab": {
          "base_uri": "https://localhost:8080/"
        },
        "id": "3jiCIndCmrDO",
        "outputId": "054f3a53-3a9b-41d3-b174-054fd11e1006"
      },
      "id": "3jiCIndCmrDO",
      "execution_count": 13,
      "outputs": [
        {
          "output_type": "stream",
          "name": "stdout",
          "text": [
            "155/155 [==============================] - 4s 21ms/step\n"
          ]
        }
      ]
    },
    {
      "cell_type": "code",
      "source": [
        "class_names = ['hate_speech', 'offensive_language', 'neither']\n",
        "plt.figure()\n",
        "plot_confusion_matrix(cm, classes=class_names, title='Confusion Matrix')\n",
        "plt.show()"
      ],
      "metadata": {
        "colab": {
          "base_uri": "https://localhost:8080/",
          "height": 506
        },
        "id": "DwgBPk5dmHUC",
        "outputId": "02583625-f73b-49be-c2ec-68aa0b5fe12a"
      },
      "id": "DwgBPk5dmHUC",
      "execution_count": 14,
      "outputs": [
        {
          "output_type": "display_data",
          "data": {
            "text/plain": [
              "<Figure size 640x480 with 2 Axes>"
            ],
            "image/png": "[encoded data removed]"
          },
          "metadata": {}
        }
      ]
    },
    {
      "cell_type": "code",
      "source": [
        "import os\n",
        "import numpy as np\n",
        "import pandas as pd\n",
        "from sklearn.model_selection import train_test_split\n",
        "from keras.models import Sequential\n",
        "from keras.layers import Dense, LSTM, SpatialDropout1D, Embedding\n",
        "from keras.utils import to_categorical\n",
        "from keras.preprocessing.text import Tokenizer\n",
        "from keras.preprocessing.sequence import pad_sequences\n",
        "import matplotlib.pyplot as plt\n",
        "\n",
        "# Tokenize and pad sequences\n",
        "max_words = 10000\n",
        "max_len = 100\n",
        "tokenizer = Tokenizer(num_words=max_words, oov_token=\"<OOV>\")\n",
        "tokenizer.fit_on_texts(df['tweet'])\n",
        "\n",
        "# Step 1: Initial split into labeled and unlabeled sets\n",
        "initial_labeled_ratio = 0.1\n",
        "X_train_text, X_unlabeled_text, y_train, y_unlabeled = train_test_split(df['tweet'], df['class'], test_size=1-initial_labeled_ratio, stratify=df['class'], random_state=42)\n",
        "\n",
        "# Convert text to sequences\n",
        "X_train_seq = tokenizer.texts_to_sequences(X_train_text)\n",
        "X_train_pad = pad_sequences(X_train_seq, maxlen=max_len, padding='post', truncating='post')\n",
        "\n",
        "X_unlabeled_seq = tokenizer.texts_to_sequences(X_unlabeled_text)\n",
        "X_unlabeled_pad = pad_sequences(X_unlabeled_seq, maxlen=max_len, padding='post', truncating='post')\n",
        "\n",
        "# Convert labels to categorical\n",
        "y_train_cat = to_categorical(y_train, num_classes=3)\n",
        "y_unlabeled_cat = to_categorical(y_unlabeled, num_classes=3)\n",
        "\n",
        "\n",
        "# Load the Keras model\n",
        "from tensorflow.keras.models import load_model\n",
        "\n",
        "model_path = '/content/lstm.h5'  # Adjust the path if needed\n",
        "model = load_model(model_path)\n",
        "\n",
        "model.fit(X_train_pad, y_train_cat, epochs=5, batch_size=64, validation_split=0.1)\n",
        "\n",
        "\n",
        "# Step 4: Active learning loop\n",
        "num_iterations = 10\n",
        "samples_per_iteration = 100\n",
        "\n",
        "for iteration in range(num_iterations):\n",
        "    # Predict probabilities on the unlabeled data\n",
        "    probs = model.predict(X_unlabeled_pad)\n",
        "    uncertainties = 1 - np.max(probs, axis=1)  # Use uncertainty sampling\n",
        "\n",
        "    # Select the most uncertain samples\n",
        "    uncertain_indices = np.argsort(uncertainties)[-samples_per_iteration:]\n",
        "    X_new_train = X_unlabeled_pad[uncertain_indices]\n",
        "    y_new_train = y_unlabeled_cat[uncertain_indices]\n",
        "\n",
        "    # Remove the selected samples from the unlabeled pool\n",
        "    X_unlabeled_pad = np.delete(X_unlabeled_pad, uncertain_indices, axis=0)\n",
        "    y_unlabeled = np.delete(y_unlabeled, uncertain_indices, axis=0)\n",
        "\n",
        "    # Add the new samples to the training set\n",
        "    X_train_pad = np.vstack((X_train_pad, X_new_train))\n",
        "    y_train_cat = np.vstack((y_train_cat, y_new_train))\n",
        "\n",
        "    # Retrain the model\n",
        "    model.fit(X_train_pad, y_train_cat, epochs=5, batch_size=64, validation_split=0.1)\n",
        "\n",
        "    # Evaluate the model\n",
        "    train_acc = model.evaluate(X_train_pad, y_train_cat, verbose=0)[1]\n",
        "    print(f\"Iteration {iteration + 1}/{num_iterations}, Training Accuracy: {train_acc:.4f}\")\n",
        "\n",
        "# Final evaluation on all data\n",
        "X_all_pad = pad_sequences(tokenizer.texts_to_sequences(df['tweet']), maxlen=max_len, padding='post', truncating='post')\n",
        "y_all = to_categorical(df['class'], num_classes=3)\n",
        "final_loss, final_accuracy = model.evaluate(X_all_pad, y_all, verbose=0)\n",
        "print(f\"Final Accuracy: {final_accuracy:.4f}\")\n",
        "\n",
        "# Save the final model\n",
        "model.save('lstm_active_learning.h5')\n"
      ],
      "metadata": {
        "colab": {
          "base_uri": "https://localhost:8080/"
        },
        "id": "m8nWGrk3-s4F",
        "outputId": "6b0d6e59-820a-4d29-b6ad-11d153cd1dda"
      },
      "id": "m8nWGrk3-s4F",
      "execution_count": 17,
      "outputs": [
        {
          "output_type": "stream",
          "name": "stderr",
          "text": [
            "WARNING:tensorflow:Layer lstm will not use cuDNN kernels since it doesn't meet the criteria. It will use a generic GPU kernel as fallback when running on GPU.\n"
          ]
        },
        {
          "output_type": "stream",
          "name": "stdout",
          "text": [
            "Epoch 1/5\n",
            "35/35 [==============================] - 18s 452ms/step - loss: 0.4042 - accuracy: 0.7744 - val_loss: 0.3971 - val_accuracy: 0.7742\n",
            "Epoch 2/5\n",
            "35/35 [==============================] - 14s 404ms/step - loss: 0.4036 - accuracy: 0.7744 - val_loss: 0.3973 - val_accuracy: 0.7742\n",
            "Epoch 3/5\n",
            "35/35 [==============================] - 13s 384ms/step - loss: 0.4041 - accuracy: 0.7744 - val_loss: 0.3970 - val_accuracy: 0.7742\n",
            "Epoch 4/5\n",
            "35/35 [==============================] - 12s 358ms/step - loss: 0.4036 - accuracy: 0.7744 - val_loss: 0.3971 - val_accuracy: 0.7742\n",
            "Epoch 5/5\n",
            "35/35 [==============================] - 12s 354ms/step - loss: 0.4037 - accuracy: 0.7744 - val_loss: 0.3972 - val_accuracy: 0.7742\n",
            "698/698 [==============================] - 22s 31ms/step\n",
            "Epoch 1/5\n",
            "37/37 [==============================] - 13s 352ms/step - loss: 0.4029 - accuracy: 0.7746 - val_loss: 0.3740 - val_accuracy: 0.7984\n",
            "Epoch 2/5\n",
            "37/37 [==============================] - 13s 345ms/step - loss: 0.4030 - accuracy: 0.7746 - val_loss: 0.3742 - val_accuracy: 0.7984\n",
            "Epoch 3/5\n",
            "37/37 [==============================] - 13s 341ms/step - loss: 0.4039 - accuracy: 0.7746 - val_loss: 0.3743 - val_accuracy: 0.7984\n",
            "Epoch 4/5\n",
            "37/37 [==============================] - 14s 383ms/step - loss: 0.4034 - accuracy: 0.7746 - val_loss: 0.3739 - val_accuracy: 0.7984\n",
            "Epoch 5/5\n",
            "37/37 [==============================] - 12s 333ms/step - loss: 0.4028 - accuracy: 0.7746 - val_loss: 0.3742 - val_accuracy: 0.7984\n",
            "Iteration 1/10, Training Accuracy: 0.7770\n",
            "694/694 [==============================] - 26s 37ms/step\n",
            "Epoch 1/5\n",
            "38/38 [==============================] - 13s 349ms/step - loss: 0.4022 - accuracy: 0.7747 - val_loss: 0.3874 - val_accuracy: 0.7836\n",
            "Epoch 2/5\n",
            "38/38 [==============================] - 13s 335ms/step - loss: 0.4021 - accuracy: 0.7747 - val_loss: 0.3872 - val_accuracy: 0.7836\n",
            "Epoch 3/5\n",
            "38/38 [==============================] - 12s 322ms/step - loss: 0.4033 - accuracy: 0.7747 - val_loss: 0.3871 - val_accuracy: 0.7836\n",
            "Epoch 4/5\n",
            "38/38 [==============================] - 13s 332ms/step - loss: 0.4024 - accuracy: 0.7747 - val_loss: 0.3869 - val_accuracy: 0.7836\n",
            "Epoch 5/5\n",
            "38/38 [==============================] - 12s 327ms/step - loss: 0.4028 - accuracy: 0.7747 - val_loss: 0.3870 - val_accuracy: 0.7836\n",
            "Iteration 2/10, Training Accuracy: 0.7756\n",
            "691/691 [==============================] - 21s 31ms/step\n",
            "Epoch 1/5\n",
            "40/40 [==============================] - 13s 329ms/step - loss: 0.4018 - accuracy: 0.7752 - val_loss: 0.3880 - val_accuracy: 0.7806\n",
            "Epoch 2/5\n",
            "40/40 [==============================] - 13s 319ms/step - loss: 0.4028 - accuracy: 0.7752 - val_loss: 0.3889 - val_accuracy: 0.7806\n",
            "Epoch 3/5\n",
            "40/40 [==============================] - 14s 356ms/step - loss: 0.4022 - accuracy: 0.7752 - val_loss: 0.3880 - val_accuracy: 0.7806\n",
            "Epoch 4/5\n",
            "40/40 [==============================] - 13s 324ms/step - loss: 0.4025 - accuracy: 0.7752 - val_loss: 0.3879 - val_accuracy: 0.7806\n",
            "Epoch 5/5\n",
            "40/40 [==============================] - 13s 324ms/step - loss: 0.4022 - accuracy: 0.7752 - val_loss: 0.3876 - val_accuracy: 0.7806\n",
            "Iteration 3/10, Training Accuracy: 0.7757\n",
            "688/688 [==============================] - 21s 30ms/step\n",
            "Epoch 1/5\n",
            "41/41 [==============================] - 13s 328ms/step - loss: 0.3996 - accuracy: 0.7776 - val_loss: 0.4102 - val_accuracy: 0.7604\n",
            "Epoch 2/5\n",
            "41/41 [==============================] - 13s 324ms/step - loss: 0.3994 - accuracy: 0.7776 - val_loss: 0.4108 - val_accuracy: 0.7604\n",
            "Epoch 3/5\n",
            "41/41 [==============================] - 13s 318ms/step - loss: 0.3998 - accuracy: 0.7776 - val_loss: 0.4105 - val_accuracy: 0.7604\n",
            "Epoch 4/5\n",
            "41/41 [==============================] - 13s 325ms/step - loss: 0.3990 - accuracy: 0.7776 - val_loss: 0.4110 - val_accuracy: 0.7604\n",
            "Epoch 5/5\n",
            "41/41 [==============================] - 13s 326ms/step - loss: 0.3987 - accuracy: 0.7776 - val_loss: 0.4106 - val_accuracy: 0.7604\n",
            "Iteration 4/10, Training Accuracy: 0.7759\n",
            "685/685 [==============================] - 20s 29ms/step\n",
            "Epoch 1/5\n",
            "42/42 [==============================] - 14s 328ms/step - loss: 0.4010 - accuracy: 0.7757 - val_loss: 0.4050 - val_accuracy: 0.7685\n",
            "Epoch 2/5\n",
            "42/42 [==============================] - 14s 327ms/step - loss: 0.4010 - accuracy: 0.7757 - val_loss: 0.4050 - val_accuracy: 0.7685\n",
            "Epoch 3/5\n",
            "42/42 [==============================] - 14s 319ms/step - loss: 0.4014 - accuracy: 0.7757 - val_loss: 0.4050 - val_accuracy: 0.7685\n",
            "Epoch 4/5\n",
            "42/42 [==============================] - 14s 320ms/step - loss: 0.4006 - accuracy: 0.7757 - val_loss: 0.4050 - val_accuracy: 0.7685\n",
            "Epoch 5/5\n",
            "42/42 [==============================] - 16s 366ms/step - loss: 0.4006 - accuracy: 0.7757 - val_loss: 0.4048 - val_accuracy: 0.7685\n",
            "Iteration 5/10, Training Accuracy: 0.7750\n",
            "682/682 [==============================] - 20s 29ms/step\n",
            "Epoch 1/5\n",
            "44/44 [==============================] - 15s 347ms/step - loss: 0.4001 - accuracy: 0.7758 - val_loss: 0.4163 - val_accuracy: 0.7597\n",
            "Epoch 2/5\n",
            "44/44 [==============================] - 14s 321ms/step - loss: 0.4009 - accuracy: 0.7758 - val_loss: 0.4165 - val_accuracy: 0.7597\n",
            "Epoch 3/5\n",
            "44/44 [==============================] - 14s 324ms/step - loss: 0.4007 - accuracy: 0.7758 - val_loss: 0.4164 - val_accuracy: 0.7597\n",
            "Epoch 4/5\n",
            "44/44 [==============================] - 15s 341ms/step - loss: 0.4003 - accuracy: 0.7758 - val_loss: 0.4167 - val_accuracy: 0.7597\n",
            "Epoch 5/5\n",
            "44/44 [==============================] - 14s 321ms/step - loss: 0.4008 - accuracy: 0.7758 - val_loss: 0.4166 - val_accuracy: 0.7597\n",
            "Iteration 6/10, Training Accuracy: 0.7742\n",
            "679/679 [==============================] - 21s 30ms/step\n",
            "Epoch 1/5\n",
            "45/45 [==============================] - 15s 329ms/step - loss: 0.4012 - accuracy: 0.7755 - val_loss: 0.4040 - val_accuracy: 0.7736\n",
            "Epoch 2/5\n",
            "45/45 [==============================] - 15s 344ms/step - loss: 0.4002 - accuracy: 0.7755 - val_loss: 0.4041 - val_accuracy: 0.7736\n",
            "Epoch 3/5\n",
            "45/45 [==============================] - 15s 338ms/step - loss: 0.4006 - accuracy: 0.7755 - val_loss: 0.4040 - val_accuracy: 0.7736\n",
            "Epoch 4/5\n",
            "45/45 [==============================] - 16s 358ms/step - loss: 0.4005 - accuracy: 0.7755 - val_loss: 0.4041 - val_accuracy: 0.7736\n",
            "Epoch 5/5\n",
            "45/45 [==============================] - 14s 314ms/step - loss: 0.4002 - accuracy: 0.7755 - val_loss: 0.4041 - val_accuracy: 0.7736\n",
            "Iteration 7/10, Training Accuracy: 0.7753\n",
            "676/676 [==============================] - 20s 29ms/step\n",
            "Epoch 1/5\n",
            "47/47 [==============================] - 16s 349ms/step - loss: 0.3981 - accuracy: 0.7776 - val_loss: 0.4213 - val_accuracy: 0.7561\n",
            "Epoch 2/5\n",
            "47/47 [==============================] - 15s 318ms/step - loss: 0.3986 - accuracy: 0.7776 - val_loss: 0.4209 - val_accuracy: 0.7561\n",
            "Epoch 3/5\n",
            "47/47 [==============================] - 15s 320ms/step - loss: 0.3988 - accuracy: 0.7776 - val_loss: 0.4213 - val_accuracy: 0.7561\n",
            "Epoch 4/5\n",
            "47/47 [==============================] - 15s 317ms/step - loss: 0.3986 - accuracy: 0.7776 - val_loss: 0.4216 - val_accuracy: 0.7561\n",
            "Epoch 5/5\n",
            "47/47 [==============================] - 15s 315ms/step - loss: 0.3989 - accuracy: 0.7776 - val_loss: 0.4209 - val_accuracy: 0.7561\n",
            "Iteration 8/10, Training Accuracy: 0.7755\n",
            "673/673 [==============================] - 21s 31ms/step\n",
            "Epoch 1/5\n",
            "48/48 [==============================] - 15s 316ms/step - loss: 0.4016 - accuracy: 0.7747 - val_loss: 0.3863 - val_accuracy: 0.7870\n",
            "Epoch 2/5\n",
            "48/48 [==============================] - 15s 322ms/step - loss: 0.4015 - accuracy: 0.7747 - val_loss: 0.3863 - val_accuracy: 0.7870\n",
            "Epoch 3/5\n",
            "48/48 [==============================] - 16s 332ms/step - loss: 0.4019 - accuracy: 0.7747 - val_loss: 0.3863 - val_accuracy: 0.7870\n",
            "Epoch 4/5\n",
            "48/48 [==============================] - 16s 318ms/step - loss: 0.4018 - accuracy: 0.7747 - val_loss: 0.3860 - val_accuracy: 0.7870\n",
            "Epoch 5/5\n",
            "48/48 [==============================] - 17s 350ms/step - loss: 0.4013 - accuracy: 0.7747 - val_loss: 0.3864 - val_accuracy: 0.7870\n",
            "Iteration 9/10, Training Accuracy: 0.7759\n",
            "669/669 [==============================] - 20s 29ms/step\n",
            "Epoch 1/5\n",
            "49/49 [==============================] - 16s 326ms/step - loss: 0.4023 - accuracy: 0.7741 - val_loss: 0.3679 - val_accuracy: 0.8046\n",
            "Epoch 2/5\n",
            "49/49 [==============================] - 16s 320ms/step - loss: 0.4028 - accuracy: 0.7741 - val_loss: 0.3689 - val_accuracy: 0.8046\n",
            "Epoch 3/5\n",
            "49/49 [==============================] - 15s 313ms/step - loss: 0.4020 - accuracy: 0.7741 - val_loss: 0.3685 - val_accuracy: 0.8046\n",
            "Epoch 4/5\n",
            "49/49 [==============================] - 15s 316ms/step - loss: 0.4025 - accuracy: 0.7741 - val_loss: 0.3688 - val_accuracy: 0.8046\n",
            "Epoch 5/5\n",
            "49/49 [==============================] - 15s 314ms/step - loss: 0.4027 - accuracy: 0.7741 - val_loss: 0.3675 - val_accuracy: 0.8046\n",
            "Iteration 10/10, Training Accuracy: 0.7772\n",
            "Final Accuracy: 0.7743\n"
          ]
        },
        {
          "output_type": "stream",
          "name": "stderr",
          "text": [
            "/usr/local/lib/python3.10/dist-packages/keras/src/engine/training.py:3103: UserWarning: You are saving your model as an HDF5 file via `model.save()`. This file format is considered legacy. We recommend using instead the native Keras format, e.g. `model.save('my_model.keras')`.\n",
            "  saving_api.save_model(\n"
          ]
        }
      ]
    },
    {
      "cell_type": "code",
      "source": [],
      "metadata": {
        "id": "-xciHMOpd1X3"
      },
      "id": "-xciHMOpd1X3",
      "execution_count": null,
      "outputs": []
    }
  ],
  "metadata": {
    "kernelspec": {
      "display_name": "Python 3",
      "name": "python3"
    },
    "language_info": {
      "codemirror_mode": {
        "name": "ipython",
        "version": 3
      },
      "file_extension": ".py",
      "mimetype": "text/x-python",
      "name": "python",
      "nbconvert_exporter": "python",
      "pygments_lexer": "ipython3",
      "version": "3.11.7"
    },
    "colab": {
      "provenance": [],
      "gpuType": "T4"
    },
    "accelerator": "GPU"
  },
  "nbformat": 4,
  "nbformat_minor": 5
}