{
  "cells": [
    {
      "cell_type": "code",
      "execution_count": null,
      "id": "044c20a9-9822-4d5e-8dd0-87b0ba27ba97",
      "metadata": {
        "colab": {
          "base_uri": "https://localhost:8080/"
        },
        "id": "044c20a9-9822-4d5e-8dd0-87b0ba27ba97",
        "outputId": "37d22020-3d8a-4fae-aac7-b7f9fa0bc09b"
      },
      "outputs": [
        {
          "output_type": "stream",
          "name": "stdout",
          "text": [
            "Collecting np_utils\n",
            "  Downloading np_utils-0.6.0.tar.gz (61 kB)\n",
            "\u001b[?25l     \u001b[90m━━━━━━━━━━━━━━━━━━━━━━━━━━━━━━━━━━━━━━━━\u001b[0m \u001b[32m0.0/62.0 kB\u001b[0m \u001b[31m?\u001b[0m eta \u001b[36m-:--:--\u001b[0m\r\u001b[2K     \u001b[90m━━━━━━━━━━━━━━━━━━━━━━━━━━━━━━━━━━━━━━━━\u001b[0m \u001b[32m62.0/62.0 kB\u001b[0m \u001b[31m5.4 MB/s\u001b[0m eta \u001b[36m0:00:00\u001b[0m\n",
            "\u001b[?25h  Preparing metadata (setup.py) ... \u001b[?25l\u001b[?25hdone\n",
            "Requirement already satisfied: numpy>=1.0 in /usr/local/lib/python3.10/dist-packages (from np_utils) (1.26.4)\n",
            "Building wheels for collected packages: np_utils\n",
            "  Building wheel for np_utils (setup.py) ... \u001b[?25l\u001b[?25hdone\n",
            "  Created wheel for np_utils: filename=np_utils-0.6.0-py3-none-any.whl size=56437 sha256=7889f4159a91241c2fccc15f3be53190fc4a904c7e79741473134f3510839f61\n",
            "  Stored in directory: /root/.cache/pip/wheels/b6/c7/50/2307607f44366dd021209f660045f8d51cb976514d30be7cc7\n",
            "Successfully built np_utils\n",
            "Installing collected packages: np_utils\n",
            "Successfully installed np_utils-0.6.0\n"
          ]
        }
      ],
      "source": [
        "!pip install np_utils"
      ]
    },
    {
      "cell_type": "code",
      "execution_count": null,
      "id": "34a8eccf-fe22-44d2-81b1-a8c267470822",
      "metadata": {
        "id": "34a8eccf-fe22-44d2-81b1-a8c267470822"
      },
      "outputs": [],
      "source": [
        "import os\n",
        "import numpy as np\n",
        "import pandas as pd\n",
        "from sklearn.preprocessing import LabelEncoder\n",
        "import nltk\n",
        "import re\n",
        "from nltk.stem import PorterStemmer\n",
        "from nltk.corpus import stopwords\n",
        "from sklearn.model_selection import train_test_split\n",
        "from sklearn.feature_extraction.text import CountVectorizer\n",
        "from sklearn.naive_bayes import MultinomialNB\n",
        "from sklearn.metrics import accuracy_score\n",
        "from sklearn.metrics import confusion_matrix\n",
        "import matplotlib.pyplot as plt\n",
        "import seaborn as sns\n",
        "from nltk.stem import WordNetLemmatizer\n",
        "import itertools\n",
        "from wordcloud import WordCloud\n",
        "from sklearn.svm import SVC\n",
        "from keras.models import Sequential,Model\n",
        "from keras.layers import Dense,LSTM, SpatialDropout1D, Embedding\n",
        "from keras.utils import to_categorical\n",
        "from joblib import dump, load"
      ]
    },
    {
      "cell_type": "code",
      "execution_count": null,
      "id": "cd7150d5-4a78-42e0-914d-8333d59438c4",
      "metadata": {
        "id": "cd7150d5-4a78-42e0-914d-8333d59438c4"
      },
      "outputs": [],
      "source": [
        "text = []\n",
        "clas = []\n",
        "df = pd.read_csv('labeled_data.csv')\n",
        "text = df['tweet'].tolist()\n",
        "clas = df['class'].tolist()\n",
        "\n",
        "df = pd.DataFrame({'tweet': text, 'class': clas})"
      ]
    },
    {
      "cell_type": "code",
      "execution_count": null,
      "id": "75bab1bf-9207-404a-85bf-cafbd6e2104c",
      "metadata": {
        "colab": {
          "base_uri": "https://localhost:8080/"
        },
        "id": "75bab1bf-9207-404a-85bf-cafbd6e2104c",
        "outputId": "cfbd6c12-8161-45d3-8dfc-1e1235ec059f"
      },
      "outputs": [
        {
          "output_type": "stream",
          "name": "stdout",
          "text": [
            "tweet    0\n",
            "class    0\n",
            "dtype: int64\n"
          ]
        }
      ],
      "source": [
        "print(df.isnull().sum())\n",
        "df['tweet'] = df['tweet'].apply(lambda x:x.lower())\n",
        "punctuation_signs = list(\"?:!.,;\")\n",
        "df['tweet'] = df['tweet']\n",
        "\n",
        "for punct_sign in punctuation_signs:\n",
        "    df['tweet'] = df['tweet'].str.replace(punct_sign, '')\n",
        "\n",
        "df['tweet'] = df['tweet'].apply(lambda x: x.replace('\\n', ' '))\n",
        "df['tweet'] = df['tweet'].apply(lambda x: x.replace('\\t', ' '))\n",
        "df['tweet'] = df['tweet'].str.replace(\"    \", \" \")\n",
        "df['tweet'] = df['tweet'].str.replace('\"', '')\n",
        "df['tweet'] = df['tweet'].str.replace(\"'s\", \"\")"
      ]
    },
    {
      "cell_type": "code",
      "execution_count": null,
      "id": "526e2829-e864-4196-98d7-0f1ed0396e24",
      "metadata": {
        "colab": {
          "base_uri": "https://localhost:8080/"
        },
        "id": "526e2829-e864-4196-98d7-0f1ed0396e24",
        "outputId": "0cf76ee3-63ed-4e35-ad66-201305822d5e"
      },
      "outputs": [
        {
          "output_type": "stream",
          "name": "stderr",
          "text": [
            "[nltk_data] Downloading package stopwords to /root/nltk_data...\n",
            "[nltk_data]   Unzipping corpora/stopwords.zip.\n"
          ]
        }
      ],
      "source": [
        "nltk.download('stopwords')\n",
        "stop_words = list(stopwords.words('english'))\n",
        "for stop_word in stop_words:\n",
        "    regex_stopword = r\"\\b\" + stop_word + r\"\\b\"\n",
        "    df['tweet'] = df['tweet'].str.replace(regex_stopword, '')"
      ]
    },
    {
      "cell_type": "code",
      "execution_count": null,
      "id": "3f766dde-2332-471f-b83c-adf3b0cbad13",
      "metadata": {
        "id": "3f766dde-2332-471f-b83c-adf3b0cbad13"
      },
      "outputs": [],
      "source": [
        "cv = CountVectorizer(max_features = 75)\n",
        "X = cv.fit_transform(df['tweet']).toarray()\n",
        "y = df['class']"
      ]
    },
    {
      "cell_type": "code",
      "execution_count": null,
      "id": "70d4d533-e9e2-44d3-88dc-1f4fc0f73f66",
      "metadata": {
        "id": "70d4d533-e9e2-44d3-88dc-1f4fc0f73f66"
      },
      "outputs": [],
      "source": [
        "\n",
        "\n",
        "X_train, X_test, y_train, y_test = train_test_split(X, y, test_size = 0.2, stratify=y, random_state = 42)\n",
        "\n"
      ]
    },
    {
      "cell_type": "code",
      "execution_count": null,
      "id": "d1c8db29-c191-4df4-bc52-e2155b076ff6",
      "metadata": {
        "id": "d1c8db29-c191-4df4-bc52-e2155b076ff6"
      },
      "outputs": [],
      "source": [
        "def plot_confusion_matrix(cm, classes,\n",
        "                          normalize=False,\n",
        "                          title='Confusion matrix',\n",
        "                              cmap=plt.cm.Blues):\n",
        "\n",
        "    plt.imshow(cm, interpolation='nearest', cmap=cmap)\n",
        "    plt.title(title)\n",
        "    plt.colorbar()\n",
        "    tick_marks = np.arange(len(classes))\n",
        "    plt.xticks(tick_marks, classes, rotation=45)\n",
        "    plt.yticks(tick_marks, classes)\n",
        "\n",
        "    if normalize:\n",
        "        cm = cm.astype('float') / cm.sum(axis=1)[:, np.newaxis]\n",
        "\n",
        "    thresh = cm.max() / 2.\n",
        "    for i, j in itertools.product(range(cm.shape[0]), range(cm.shape[1])):\n",
        "        plt.text(j, i, cm[i, j],\n",
        "                 horizontalalignment=\"center\",\n",
        "                 color=\"white\" if cm[i, j] > thresh else \"black\")\n",
        "\n",
        "    plt.tight_layout()\n",
        "    plt.ylabel('True label')\n",
        "    plt.xlabel('Predicted label')"
      ]
    },
    {
      "cell_type": "code",
      "execution_count": null,
      "id": "051fd212-bd1f-41bb-8953-2d03ac39a0f3",
      "metadata": {
        "id": "051fd212-bd1f-41bb-8953-2d03ac39a0f3"
      },
      "outputs": [],
      "source": [
        "\n",
        "\n",
        "y_train=to_categorical(y_train, num_classes = 3)\n",
        "y_test=to_categorical(y_test, num_classes = 3)\n",
        "\n"
      ]
    },
    {
      "cell_type": "code",
      "execution_count": null,
      "id": "b942ea34-4356-4cd3-ab52-3a9d49f32bf1",
      "metadata": {
        "colab": {
          "base_uri": "https://localhost:8080/"
        },
        "id": "b942ea34-4356-4cd3-ab52-3a9d49f32bf1",
        "outputId": "d356ed83-1424-41dd-e5f8-1af0c8945213"
      },
      "outputs": [
        {
          "output_type": "stream",
          "name": "stdout",
          "text": [
            "Epoch 1/25\n",
            "\u001b[1m310/310\u001b[0m \u001b[32m━━━━━━━━━━━━━━━━━━━━\u001b[0m\u001b[37m\u001b[0m \u001b[1m69s\u001b[0m 171ms/step - accuracy: 0.7775 - loss: 0.4288 - val_accuracy: 0.7743 - val_loss: 0.4020\n",
            "Epoch 2/25\n",
            "\u001b[1m310/310\u001b[0m \u001b[32m━━━━━━━━━━━━━━━━━━━━\u001b[0m\u001b[37m\u001b[0m \u001b[1m48s\u001b[0m 154ms/step - accuracy: 0.7736 - loss: 0.4015 - val_accuracy: 0.7743 - val_loss: 0.4023\n",
            "Epoch 3/25\n",
            "\u001b[1m310/310\u001b[0m \u001b[32m━━━━━━━━━━━━━━━━━━━━\u001b[0m\u001b[37m\u001b[0m \u001b[1m46s\u001b[0m 147ms/step - accuracy: 0.7736 - loss: 0.4018 - val_accuracy: 0.7743 - val_loss: 0.4017\n",
            "Epoch 4/25\n",
            "\u001b[1m310/310\u001b[0m \u001b[32m━━━━━━━━━━━━━━━━━━━━\u001b[0m\u001b[37m\u001b[0m \u001b[1m47s\u001b[0m 153ms/step - accuracy: 0.7741 - loss: 0.4011 - val_accuracy: 0.7743 - val_loss: 0.4022\n",
            "Epoch 5/25\n",
            "\u001b[1m310/310\u001b[0m \u001b[32m━━━━━━━━━━━━━━━━━━━━\u001b[0m\u001b[37m\u001b[0m \u001b[1m81s\u001b[0m 150ms/step - accuracy: 0.7731 - loss: 0.4011 - val_accuracy: 0.7743 - val_loss: 0.4023\n",
            "Epoch 6/25\n",
            "\u001b[1m310/310\u001b[0m \u001b[32m━━━━━━━━━━━━━━━━━━━━\u001b[0m\u001b[37m\u001b[0m \u001b[1m92s\u001b[0m 184ms/step - accuracy: 0.7713 - loss: 0.4041 - val_accuracy: 0.7743 - val_loss: 0.4022\n",
            "Epoch 7/25\n",
            "\u001b[1m310/310\u001b[0m \u001b[32m━━━━━━━━━━━━━━━━━━━━\u001b[0m\u001b[37m\u001b[0m \u001b[1m71s\u001b[0m 149ms/step - accuracy: 0.7786 - loss: 0.3953 - val_accuracy: 0.7743 - val_loss: 0.4024\n",
            "Epoch 8/25\n",
            "\u001b[1m310/310\u001b[0m \u001b[32m━━━━━━━━━━━━━━━━━━━━\u001b[0m\u001b[37m\u001b[0m \u001b[1m83s\u001b[0m 153ms/step - accuracy: 0.7761 - loss: 0.3977 - val_accuracy: 0.7743 - val_loss: 0.4028\n",
            "Epoch 9/25\n",
            "\u001b[1m310/310\u001b[0m \u001b[32m━━━━━━━━━━━━━━━━━━━━\u001b[0m\u001b[37m\u001b[0m \u001b[1m82s\u001b[0m 153ms/step - accuracy: 0.7702 - loss: 0.4049 - val_accuracy: 0.7743 - val_loss: 0.4025\n",
            "Epoch 10/25\n",
            "\u001b[1m310/310\u001b[0m \u001b[32m━━━━━━━━━━━━━━━━━━━━\u001b[0m\u001b[37m\u001b[0m \u001b[1m80s\u001b[0m 147ms/step - accuracy: 0.7741 - loss: 0.4009 - val_accuracy: 0.7743 - val_loss: 0.4018\n",
            "Epoch 11/25\n",
            "\u001b[1m310/310\u001b[0m \u001b[32m━━━━━━━━━━━━━━━━━━━━\u001b[0m\u001b[37m\u001b[0m \u001b[1m84s\u001b[0m 153ms/step - accuracy: 0.7745 - loss: 0.4011 - val_accuracy: 0.7743 - val_loss: 0.4020\n",
            "Epoch 12/25\n",
            "\u001b[1m310/310\u001b[0m \u001b[32m━━━━━━━━━━━━━━━━━━━━\u001b[0m\u001b[37m\u001b[0m \u001b[1m84s\u001b[0m 161ms/step - accuracy: 0.7778 - loss: 0.3957 - val_accuracy: 0.7743 - val_loss: 0.4034\n",
            "Epoch 13/25\n",
            "\u001b[1m310/310\u001b[0m \u001b[32m━━━━━━━━━━━━━━━━━━━━\u001b[0m\u001b[37m\u001b[0m \u001b[1m80s\u001b[0m 154ms/step - accuracy: 0.7740 - loss: 0.4002 - val_accuracy: 0.7743 - val_loss: 0.4017\n",
            "Epoch 14/25\n",
            "\u001b[1m310/310\u001b[0m \u001b[32m━━━━━━━━━━━━━━━━━━━━\u001b[0m\u001b[37m\u001b[0m \u001b[1m80s\u001b[0m 149ms/step - accuracy: 0.7755 - loss: 0.3989 - val_accuracy: 0.7743 - val_loss: 0.4016\n",
            "Epoch 15/25\n",
            "\u001b[1m310/310\u001b[0m \u001b[32m━━━━━━━━━━━━━━━━━━━━\u001b[0m\u001b[37m\u001b[0m \u001b[1m81s\u001b[0m 147ms/step - accuracy: 0.7820 - loss: 0.3911 - val_accuracy: 0.7743 - val_loss: 0.4016\n",
            "Epoch 16/25\n",
            "\u001b[1m310/310\u001b[0m \u001b[32m━━━━━━━━━━━━━━━━━━━━\u001b[0m\u001b[37m\u001b[0m \u001b[1m83s\u001b[0m 153ms/step - accuracy: 0.7664 - loss: 0.4065 - val_accuracy: 0.7743 - val_loss: 0.4015\n",
            "Epoch 17/25\n",
            "\u001b[1m310/310\u001b[0m \u001b[32m━━━━━━━━━━━━━━━━━━━━\u001b[0m\u001b[37m\u001b[0m \u001b[1m80s\u001b[0m 147ms/step - accuracy: 0.7716 - loss: 0.4015 - val_accuracy: 0.7743 - val_loss: 0.4013\n",
            "Epoch 18/25\n",
            "\u001b[1m310/310\u001b[0m \u001b[32m━━━━━━━━━━━━━━━━━━━━\u001b[0m\u001b[37m\u001b[0m \u001b[1m82s\u001b[0m 146ms/step - accuracy: 0.7739 - loss: 0.3990 - val_accuracy: 0.7743 - val_loss: 0.4018\n",
            "Epoch 19/25\n",
            "\u001b[1m310/310\u001b[0m \u001b[32m━━━━━━━━━━━━━━━━━━━━\u001b[0m\u001b[37m\u001b[0m \u001b[1m84s\u001b[0m 152ms/step - accuracy: 0.7714 - loss: 0.4014 - val_accuracy: 0.7743 - val_loss: 0.4014\n",
            "Epoch 20/25\n",
            "\u001b[1m310/310\u001b[0m \u001b[32m━━━━━━━━━━━━━━━━━━━━\u001b[0m\u001b[37m\u001b[0m \u001b[1m81s\u001b[0m 148ms/step - accuracy: 0.7733 - loss: 0.3974 - val_accuracy: 0.7743 - val_loss: 0.4017\n",
            "Epoch 21/25\n",
            "\u001b[1m310/310\u001b[0m \u001b[32m━━━━━━━━━━━━━━━━━━━━\u001b[0m\u001b[37m\u001b[0m \u001b[1m50s\u001b[0m 159ms/step - accuracy: 0.7783 - loss: 0.3946 - val_accuracy: 0.7743 - val_loss: 0.4011\n",
            "Epoch 22/25\n",
            "\u001b[1m310/310\u001b[0m \u001b[32m━━━━━━━━━━━━━━━━━━━━\u001b[0m\u001b[37m\u001b[0m \u001b[1m48s\u001b[0m 156ms/step - accuracy: 0.7746 - loss: 0.3968 - val_accuracy: 0.7743 - val_loss: 0.4012\n",
            "Epoch 23/25\n",
            "\u001b[1m310/310\u001b[0m \u001b[32m━━━━━━━━━━━━━━━━━━━━\u001b[0m\u001b[37m\u001b[0m \u001b[1m46s\u001b[0m 150ms/step - accuracy: 0.7774 - loss: 0.3972 - val_accuracy: 0.7743 - val_loss: 0.4017\n",
            "Epoch 24/25\n",
            "\u001b[1m310/310\u001b[0m \u001b[32m━━━━━━━━━━━━━━━━━━━━\u001b[0m\u001b[37m\u001b[0m \u001b[1m82s\u001b[0m 148ms/step - accuracy: 0.7717 - loss: 0.4011 - val_accuracy: 0.7743 - val_loss: 0.4017\n",
            "Epoch 25/25\n",
            "\u001b[1m310/310\u001b[0m \u001b[32m━━━━━━━━━━━━━━━━━━━━\u001b[0m\u001b[37m\u001b[0m \u001b[1m47s\u001b[0m 152ms/step - accuracy: 0.7793 - loss: 0.3936 - val_accuracy: 0.7743 - val_loss: 0.4011\n"
          ]
        }
      ],
      "source": [
        "model = Sequential()\n",
        "model.add(Embedding(232337, 100))\n",
        "model.add(SpatialDropout1D(0.2))\n",
        "model.add(LSTM(20, dropout=0.2, recurrent_dropout=0.2))\n",
        "model.add(Dense(3, activation='softmax'))\n",
        "model.compile(loss='binary_crossentropy', optimizer='adam', metrics=['accuracy'])\n",
        "\n",
        "epochs = 25\n",
        "batch_size = 64\n",
        "\n",
        "history = model.fit(X_train, y_train,validation_data = (X_test,y_test), epochs=epochs, batch_size=batch_size)"
      ]
    },
    {
      "cell_type": "code",
      "execution_count": null,
      "id": "18b01040-bd52-4fb0-87fa-56d2785550da",
      "metadata": {
        "colab": {
          "base_uri": "https://localhost:8080/",
          "height": 887
        },
        "id": "18b01040-bd52-4fb0-87fa-56d2785550da",
        "outputId": "86f8009f-7c90-4b2d-8b16-42654a9f2c28"
      },
      "outputs": [
        {
          "output_type": "display_data",
          "data": {
            "text/plain": [
              "<Figure size 640x480 with 1 Axes>"
            ],
            "image/png": "[encoded data removed]"
          },
          "metadata": {}
        },
        {
          "output_type": "display_data",
          "data": {
            "text/plain": [
              "<Figure size 640x480 with 1 Axes>"
            ],
            "image/png": "[encoded data removed]"
          },
          "metadata": {}
        }
      ],
      "source": [
        "acc = history.history['accuracy']\n",
        "val_acc = history.history['val_accuracy']\n",
        "loss = history.history['loss']\n",
        "val_loss = history.history['val_loss']\n",
        "epochs = range(1, len(acc) + 1)\n",
        "plt.plot(epochs, acc, 'bo', label='Training accuracy')\n",
        "plt.plot(epochs, val_acc, 'r', label='Validation accuracy')\n",
        "plt.title('Training and validation accuracy')\n",
        "plt.legend()\n",
        "plt.figure()\n",
        "plt.plot(epochs, loss, 'bo', label='Training loss')\n",
        "plt.plot(epochs, val_loss, 'r', label='Validation loss')\n",
        "plt.title('Training and validation loss')\n",
        "plt.legend()\n",
        "plt.show()"
      ]
    },
    {
      "cell_type": "code",
      "execution_count": null,
      "id": "18b9169d-aff1-4947-89ac-3481c947ea66",
      "metadata": {
        "colab": {
          "base_uri": "https://localhost:8080/"
        },
        "id": "18b9169d-aff1-4947-89ac-3481c947ea66",
        "outputId": "83e3c971-409b-4d9d-b891-be2913287e2f"
      },
      "outputs": [
        {
          "output_type": "stream",
          "name": "stderr",
          "text": [
            "WARNING:absl:You are saving your model as an HDF5 file via `model.save()` or `keras.saving.save_model(model)`. This file format is considered legacy. We recommend using instead the native Keras format, e.g. `model.save('my_model.keras')` or `keras.saving.save_model(model, 'my_model.keras')`. \n"
          ]
        }
      ],
      "source": [
        "model.save('lstm.h5')"
      ]
    },
    {
      "cell_type": "code",
      "source": [
        "from wordcloud import WordCloud"
      ],
      "metadata": {
        "id": "R9h5bR1dgyfa"
      },
      "id": "R9h5bR1dgyfa",
      "execution_count": null,
      "outputs": []
    },
    {
      "cell_type": "code",
      "source": [
        "# Predict and calculate confusion matrix\n",
        "y_pred = model.predict(X_test)\n",
        "y_pred_classes = np.argmax(y_pred, axis=1)\n",
        "y_true = np.argmax(y_test, axis=1)\n",
        "cm = confusion_matrix(y_true, y_pred_classes)"
      ],
      "metadata": {
        "colab": {
          "base_uri": "https://localhost:8080/"
        },
        "id": "3jiCIndCmrDO",
        "outputId": "65e31454-334b-423e-babc-001ffc2d5bf9"
      },
      "id": "3jiCIndCmrDO",
      "execution_count": null,
      "outputs": [
        {
          "output_type": "stream",
          "name": "stdout",
          "text": [
            "\u001b[1m155/155\u001b[0m \u001b[32m━━━━━━━━━━━━━━━━━━━━\u001b[0m\u001b[37m\u001b[0m \u001b[1m5s\u001b[0m 32ms/step\n"
          ]
        }
      ]
    },
    {
      "cell_type": "code",
      "source": [
        "class_names = ['hate_speech', 'offensive_language', 'neither']\n",
        "plt.figure()\n",
        "plot_confusion_matrix(cm, classes=class_names, title='Confusion Matrix')\n",
        "plt.show()"
      ],
      "metadata": {
        "colab": {
          "base_uri": "https://localhost:8080/",
          "height": 506
        },
        "id": "DwgBPk5dmHUC",
        "outputId": "bfe0dc44-e2d9-4014-9e45-a271aca3c1fe"
      },
      "id": "DwgBPk5dmHUC",
      "execution_count": null,
      "outputs": [
        {
          "output_type": "display_data",
          "data": {
            "text/plain": [
              "<Figure size 640x480 with 2 Axes>"
            ],
            "image/png": "[encoded data removed]"
          },
          "metadata": {}
        }
      ]
    },
    {
      "cell_type": "code",
      "source": [
        "import os\n",
        "import numpy as np\n",
        "import pandas as pd\n",
        "from sklearn.model_selection import train_test_split\n",
        "from keras.models import Sequential\n",
        "from keras.layers import Dense, LSTM, SpatialDropout1D, Embedding\n",
        "from keras.utils import to_categorical\n",
        "from tensorflow.keras.preprocessing.text import Tokenizer\n",
        "from tensorflow.keras.preprocessing.sequence import pad_sequences\n",
        "from tensorflow.keras.optimizers import Adam\n",
        "import matplotlib.pyplot as plt\n",
        "\n",
        "# Tokenize and pad sequences\n",
        "max_words = 10000\n",
        "max_len = 100\n",
        "tokenizer = Tokenizer(num_words=max_words, oov_token=\"<OOV>\")\n",
        "tokenizer.fit_on_texts(df['tweet'])\n",
        "\n",
        "# Step 1: Initial split into labeled and unlabeled sets\n",
        "initial_labeled_ratio = 0.1\n",
        "X_train_text, X_unlabeled_text, y_train, y_unlabeled = train_test_split(df['tweet'], df['class'], test_size=1-initial_labeled_ratio, stratify=df['class'], random_state=42)\n",
        "\n",
        "# Convert text to sequences\n",
        "X_train_seq = tokenizer.texts_to_sequences(X_train_text)\n",
        "X_train_pad = pad_sequences(X_train_seq, maxlen=max_len, padding='post', truncating='post')\n",
        "\n",
        "X_unlabeled_seq = tokenizer.texts_to_sequences(X_unlabeled_text)\n",
        "X_unlabeled_pad = pad_sequences(X_unlabeled_seq, maxlen=max_len, padding='post', truncating='post')\n",
        "\n",
        "# Convert labels to categorical\n",
        "y_train_cat = to_categorical(y_train, num_classes=3)\n",
        "y_unlabeled_cat = to_categorical(y_unlabeled, num_classes=3)\n",
        "\n",
        "\n",
        "# Load the Keras model\n",
        "from tensorflow.keras.models import load_model\n",
        "\n",
        "model_path = '/content/lstm.h5'  # Adjust the path if needed\n",
        "model = load_model(model_path)\n",
        "\n",
        "model.compile(loss='categorical_crossentropy', optimizer=Adam(), metrics=['accuracy'])\n",
        "\n",
        "# Continue training the model\n",
        "model.fit(X_train_pad, y_train_cat, epochs=5, batch_size=64, validation_split=0.1)\n",
        "\n",
        "\n",
        "# Step 4: Active learning loop\n",
        "num_iterations = 10\n",
        "samples_per_iteration = 100\n",
        "\n",
        "for iteration in range(num_iterations):\n",
        "    # Predict probabilities on the unlabeled data\n",
        "    probs = model.predict(X_unlabeled_pad)\n",
        "    uncertainties = 1 - np.max(probs, axis=1)  # Use uncertainty sampling\n",
        "\n",
        "    # Select the most uncertain samples\n",
        "    uncertain_indices = np.argsort(uncertainties)[-samples_per_iteration:]\n",
        "    X_new_train = X_unlabeled_pad[uncertain_indices]\n",
        "    y_new_train = y_unlabeled_cat[uncertain_indices]\n",
        "\n",
        "    # Remove the selected samples from the unlabeled pool\n",
        "    X_unlabeled_pad = np.delete(X_unlabeled_pad, uncertain_indices, axis=0)\n",
        "    y_unlabeled = np.delete(y_unlabeled, uncertain_indices, axis=0)\n",
        "\n",
        "    # Add the new samples to the training set\n",
        "    X_train_pad = np.vstack((X_train_pad, X_new_train))\n",
        "    y_train_cat = np.vstack((y_train_cat, y_new_train))\n",
        "\n",
        "    # Retrain the model\n",
        "    model.fit(X_train_pad, y_train_cat, epochs=5, batch_size=64, validation_split=0.1)\n",
        "\n",
        "    # Evaluate the model\n",
        "    train_acc = model.evaluate(X_train_pad, y_train_cat, verbose=0)[1]\n",
        "    print(f\"Iteration {iteration + 1}/{num_iterations}, Training Accuracy: {train_acc:.4f}\")\n",
        "\n",
        "# Final evaluation on all data\n",
        "X_all_pad = pad_sequences(tokenizer.texts_to_sequences(df['tweet']), maxlen=max_len, padding='post', truncating='post')\n",
        "y_all = to_categorical(df['class'], num_classes=3)\n",
        "final_loss, final_accuracy = model.evaluate(X_all_pad, y_all, verbose=0)\n",
        "print(f\"Final Accuracy: {final_accuracy:.4f}\")\n",
        "\n",
        "# Save the final model\n",
        "model.save('lstm_active_learning.h5')\n"
      ],
      "metadata": {
        "colab": {
          "base_uri": "https://localhost:8080/"
        },
        "id": "m8nWGrk3-s4F",
        "outputId": "510c80b7-c31a-40ae-9f47-58862e0a9c5d"
      },
      "id": "m8nWGrk3-s4F",
      "execution_count": null,
      "outputs": [
        {
          "output_type": "stream",
          "name": "stderr",
          "text": [
            "WARNING:absl:Compiled the loaded model, but the compiled metrics have yet to be built. `model.compile_metrics` will be empty until you train or evaluate the model.\n"
          ]
        },
        {
          "output_type": "stream",
          "name": "stdout",
          "text": [
            "Epoch 1/5\n",
            "\u001b[1m35/35\u001b[0m \u001b[32m━━━━━━━━━━━━━━━━━━━━\u001b[0m\u001b[37m\u001b[0m \u001b[1m8s\u001b[0m 172ms/step - accuracy: 0.7680 - loss: 0.7824 - val_accuracy: 0.7742 - val_loss: 0.6465\n",
            "Epoch 2/5\n",
            "\u001b[1m35/35\u001b[0m \u001b[32m━━━━━━━━━━━━━━━━━━━━\u001b[0m\u001b[37m\u001b[0m \u001b[1m7s\u001b[0m 204ms/step - accuracy: 0.7716 - loss: 0.6779 - val_accuracy: 0.7742 - val_loss: 0.6487\n",
            "Epoch 3/5\n",
            "\u001b[1m35/35\u001b[0m \u001b[32m━━━━━━━━━━━━━━━━━━━━\u001b[0m\u001b[37m\u001b[0m \u001b[1m10s\u001b[0m 210ms/step - accuracy: 0.8003 - loss: 0.6128 - val_accuracy: 0.7742 - val_loss: 0.6484\n",
            "Epoch 4/5\n",
            "\u001b[1m35/35\u001b[0m \u001b[32m━━━━━━━━━━━━━━━━━━━━\u001b[0m\u001b[37m\u001b[0m \u001b[1m9s\u001b[0m 165ms/step - accuracy: 0.7649 - loss: 0.6861 - val_accuracy: 0.7742 - val_loss: 0.6500\n",
            "Epoch 5/5\n",
            "\u001b[1m35/35\u001b[0m \u001b[32m━━━━━━━━━━━━━━━━━━━━\u001b[0m\u001b[37m\u001b[0m \u001b[1m10s\u001b[0m 163ms/step - accuracy: 0.7768 - loss: 0.6539 - val_accuracy: 0.7742 - val_loss: 0.6478\n",
            "\u001b[1m698/698\u001b[0m \u001b[32m━━━━━━━━━━━━━━━━━━━━\u001b[0m\u001b[37m\u001b[0m \u001b[1m30s\u001b[0m 43ms/step\n",
            "Epoch 1/5\n",
            "\u001b[1m37/37\u001b[0m \u001b[32m━━━━━━━━━━━━━━━━━━━━\u001b[0m\u001b[37m\u001b[0m \u001b[1m7s\u001b[0m 183ms/step - accuracy: 0.7831 - loss: 0.6524 - val_accuracy: 0.7481 - val_loss: 0.6925\n",
            "Epoch 2/5\n",
            "\u001b[1m37/37\u001b[0m \u001b[32m━━━━━━━━━━━━━━━━━━━━\u001b[0m\u001b[37m\u001b[0m \u001b[1m10s\u001b[0m 164ms/step - accuracy: 0.7717 - loss: 0.6707 - val_accuracy: 0.7481 - val_loss: 0.6945\n",
            "Epoch 3/5\n",
            "\u001b[1m37/37\u001b[0m \u001b[32m━━━━━━━━━━━━━━━━━━━━\u001b[0m\u001b[37m\u001b[0m \u001b[1m8s\u001b[0m 209ms/step - accuracy: 0.7794 - loss: 0.6512 - val_accuracy: 0.7481 - val_loss: 0.6898\n",
            "Epoch 4/5\n",
            "\u001b[1m37/37\u001b[0m \u001b[32m━━━━━━━━━━━━━━━━━━━━\u001b[0m\u001b[37m\u001b[0m \u001b[1m10s\u001b[0m 202ms/step - accuracy: 0.7633 - loss: 0.6753 - val_accuracy: 0.7481 - val_loss: 0.5619\n",
            "Epoch 5/5\n",
            "\u001b[1m37/37\u001b[0m \u001b[32m━━━━━━━━━━━━━━━━━━━━\u001b[0m\u001b[37m\u001b[0m \u001b[1m9s\u001b[0m 162ms/step - accuracy: 0.7740 - loss: 0.5357 - val_accuracy: 0.8450 - val_loss: 0.5064\n",
            "Iteration 1/10, Training Accuracy: 0.8774\n",
            "\u001b[1m694/694\u001b[0m \u001b[32m━━━━━━━━━━━━━━━━━━━━\u001b[0m\u001b[37m\u001b[0m \u001b[1m30s\u001b[0m 43ms/step\n",
            "Epoch 1/5\n",
            "\u001b[1m38/38\u001b[0m \u001b[32m━━━━━━━━━━━━━━━━━━━━\u001b[0m\u001b[37m\u001b[0m \u001b[1m6s\u001b[0m 164ms/step - accuracy: 0.8764 - loss: 0.4090 - val_accuracy: 0.5746 - val_loss: 0.8838\n",
            "Epoch 2/5\n",
            "\u001b[1m38/38\u001b[0m \u001b[32m━━━━━━━━━━━━━━━━━━━━\u001b[0m\u001b[37m\u001b[0m \u001b[1m10s\u001b[0m 164ms/step - accuracy: 0.9004 - loss: 0.3454 - val_accuracy: 0.5970 - val_loss: 0.8879\n",
            "Epoch 3/5\n",
            "\u001b[1m38/38\u001b[0m \u001b[32m━━━━━━━━━━━━━━━━━━━━\u001b[0m\u001b[37m\u001b[0m \u001b[1m10s\u001b[0m 161ms/step - accuracy: 0.8999 - loss: 0.3441 - val_accuracy: 0.6269 - val_loss: 0.8862\n",
            "Epoch 4/5\n",
            "\u001b[1m38/38\u001b[0m \u001b[32m━━━━━━━━━━━━━━━━━━━━\u001b[0m\u001b[37m\u001b[0m \u001b[1m11s\u001b[0m 177ms/step - accuracy: 0.9061 - loss: 0.3002 - val_accuracy: 0.6194 - val_loss: 0.9174\n",
            "Epoch 5/5\n",
            "\u001b[1m38/38\u001b[0m \u001b[32m━━━━━━━━━━━━━━━━━━━━\u001b[0m\u001b[37m\u001b[0m \u001b[1m11s\u001b[0m 207ms/step - accuracy: 0.9090 - loss: 0.2999 - val_accuracy: 0.6418 - val_loss: 0.9600\n",
            "Iteration 2/10, Training Accuracy: 0.9078\n",
            "\u001b[1m691/691\u001b[0m \u001b[32m━━━━━━━━━━━━━━━━━━━━\u001b[0m\u001b[37m\u001b[0m \u001b[1m31s\u001b[0m 45ms/step\n",
            "Epoch 1/5\n",
            "\u001b[1m40/40\u001b[0m \u001b[32m━━━━━━━━━━━━━━━━━━━━\u001b[0m\u001b[37m\u001b[0m \u001b[1m7s\u001b[0m 183ms/step - accuracy: 0.9181 - loss: 0.2801 - val_accuracy: 0.5432 - val_loss: 1.1078\n",
            "Epoch 2/5\n",
            "\u001b[1m40/40\u001b[0m \u001b[32m━━━━━━━━━━━━━━━━━━━━\u001b[0m\u001b[37m\u001b[0m \u001b[1m11s\u001b[0m 196ms/step - accuracy: 0.9385 - loss: 0.2508 - val_accuracy: 0.5396 - val_loss: 1.1663\n",
            "Epoch 3/5\n",
            "\u001b[1m40/40\u001b[0m \u001b[32m━━━━━━━━━━━━━━━━━━━━\u001b[0m\u001b[37m\u001b[0m \u001b[1m11s\u001b[0m 204ms/step - accuracy: 0.9203 - loss: 0.2644 - val_accuracy: 0.5324 - val_loss: 1.2485\n",
            "Epoch 4/5\n",
            "\u001b[1m40/40\u001b[0m \u001b[32m━━━━━━━━━━━━━━━━━━━━\u001b[0m\u001b[37m\u001b[0m \u001b[1m9s\u001b[0m 163ms/step - accuracy: 0.9276 - loss: 0.2332 - val_accuracy: 0.4784 - val_loss: 1.3650\n",
            "Epoch 5/5\n",
            "\u001b[1m40/40\u001b[0m \u001b[32m━━━━━━━━━━━━━━━━━━━━\u001b[0m\u001b[37m\u001b[0m \u001b[1m10s\u001b[0m 161ms/step - accuracy: 0.9340 - loss: 0.2134 - val_accuracy: 0.4209 - val_loss: 1.6505\n",
            "Iteration 3/10, Training Accuracy: 0.8880\n",
            "\u001b[1m688/688\u001b[0m \u001b[32m━━━━━━━━━━━━━━━━━━━━\u001b[0m\u001b[37m\u001b[0m \u001b[1m29s\u001b[0m 43ms/step\n",
            "Epoch 1/5\n",
            "\u001b[1m41/41\u001b[0m \u001b[32m━━━━━━━━━━━━━━━━━━━━\u001b[0m\u001b[37m\u001b[0m \u001b[1m8s\u001b[0m 193ms/step - accuracy: 0.9263 - loss: 0.2281 - val_accuracy: 0.4444 - val_loss: 1.2734\n",
            "Epoch 2/5\n",
            "\u001b[1m41/41\u001b[0m \u001b[32m━━━━━━━━━━━━━━━━━━━━\u001b[0m\u001b[37m\u001b[0m \u001b[1m7s\u001b[0m 161ms/step - accuracy: 0.9216 - loss: 0.2364 - val_accuracy: 0.4583 - val_loss: 1.3516\n",
            "Epoch 3/5\n",
            "\u001b[1m41/41\u001b[0m \u001b[32m━━━━━━━━━━━━━━━━━━━━\u001b[0m\u001b[37m\u001b[0m \u001b[1m12s\u001b[0m 194ms/step - accuracy: 0.9318 - loss: 0.2024 - val_accuracy: 0.4861 - val_loss: 1.4484\n",
            "Epoch 4/5\n",
            "\u001b[1m41/41\u001b[0m \u001b[32m━━━━━━━━━━━━━━━━━━━━\u001b[0m\u001b[37m\u001b[0m \u001b[1m10s\u001b[0m 203ms/step - accuracy: 0.9420 - loss: 0.1864 - val_accuracy: 0.3993 - val_loss: 1.5170\n",
            "Epoch 5/5\n",
            "\u001b[1m41/41\u001b[0m \u001b[32m━━━━━━━━━━━━━━━━━━━━\u001b[0m\u001b[37m\u001b[0m \u001b[1m10s\u001b[0m 198ms/step - accuracy: 0.9453 - loss: 0.1684 - val_accuracy: 0.4340 - val_loss: 1.6165\n",
            "Iteration 4/10, Training Accuracy: 0.8909\n",
            "\u001b[1m685/685\u001b[0m \u001b[32m━━━━━━━━━━━━━━━━━━━━\u001b[0m\u001b[37m\u001b[0m \u001b[1m29s\u001b[0m 43ms/step\n",
            "Epoch 1/5\n",
            "\u001b[1m42/42\u001b[0m \u001b[32m━━━━━━━━━━━━━━━━━━━━\u001b[0m\u001b[37m\u001b[0m \u001b[1m8s\u001b[0m 203ms/step - accuracy: 0.9156 - loss: 0.2522 - val_accuracy: 0.7047 - val_loss: 0.8820\n",
            "Epoch 2/5\n",
            "\u001b[1m42/42\u001b[0m \u001b[32m━━━━━━━━━━━━━━━━━━━━\u001b[0m\u001b[37m\u001b[0m \u001b[1m10s\u001b[0m 201ms/step - accuracy: 0.9408 - loss: 0.2013 - val_accuracy: 0.7081 - val_loss: 0.9488\n",
            "Epoch 3/5\n",
            "\u001b[1m42/42\u001b[0m \u001b[32m━━━━━━━━━━━━━━━━━━━━\u001b[0m\u001b[37m\u001b[0m \u001b[1m7s\u001b[0m 163ms/step - accuracy: 0.9342 - loss: 0.1942 - val_accuracy: 0.6879 - val_loss: 1.0001\n",
            "Epoch 4/5\n",
            "\u001b[1m42/42\u001b[0m \u001b[32m━━━━━━━━━━━━━━━━━━━━\u001b[0m\u001b[37m\u001b[0m \u001b[1m10s\u001b[0m 164ms/step - accuracy: 0.9341 - loss: 0.1914 - val_accuracy: 0.6879 - val_loss: 1.0523\n",
            "Epoch 5/5\n",
            "\u001b[1m42/42\u001b[0m \u001b[32m━━━━━━━━━━━━━━━━━━━━\u001b[0m\u001b[37m\u001b[0m \u001b[1m11s\u001b[0m 183ms/step - accuracy: 0.9409 - loss: 0.1742 - val_accuracy: 0.6443 - val_loss: 1.1147\n",
            "Iteration 5/10, Training Accuracy: 0.9110\n",
            "\u001b[1m682/682\u001b[0m \u001b[32m━━━━━━━━━━━━━━━━━━━━\u001b[0m\u001b[37m\u001b[0m \u001b[1m29s\u001b[0m 43ms/step\n",
            "Epoch 1/5\n",
            "\u001b[1m44/44\u001b[0m \u001b[32m━━━━━━━━━━━━━━━━━━━━\u001b[0m\u001b[37m\u001b[0m \u001b[1m8s\u001b[0m 179ms/step - accuracy: 0.9240 - loss: 0.2117 - val_accuracy: 0.7078 - val_loss: 0.9586\n",
            "Epoch 2/5\n",
            "\u001b[1m44/44\u001b[0m \u001b[32m━━━━━━━━━━━━━━━━━━━━\u001b[0m\u001b[37m\u001b[0m \u001b[1m9s\u001b[0m 162ms/step - accuracy: 0.9252 - loss: 0.2081 - val_accuracy: 0.6688 - val_loss: 0.9907\n",
            "Epoch 3/5\n",
            "\u001b[1m44/44\u001b[0m \u001b[32m━━━━━━━━━━━━━━━━━━━━\u001b[0m\u001b[37m\u001b[0m \u001b[1m10s\u001b[0m 160ms/step - accuracy: 0.9349 - loss: 0.1684 - val_accuracy: 0.5390 - val_loss: 1.0770\n",
            "Epoch 4/5\n",
            "\u001b[1m44/44\u001b[0m \u001b[32m━━━━━━━━━━━━━━━━━━━━\u001b[0m\u001b[37m\u001b[0m \u001b[1m11s\u001b[0m 184ms/step - accuracy: 0.9455 - loss: 0.1487 - val_accuracy: 0.5942 - val_loss: 1.0854\n",
            "Epoch 5/5\n",
            "\u001b[1m44/44\u001b[0m \u001b[32m━━━━━━━━━━━━━━━━━━━━\u001b[0m\u001b[37m\u001b[0m \u001b[1m11s\u001b[0m 200ms/step - accuracy: 0.9409 - loss: 0.1537 - val_accuracy: 0.6396 - val_loss: 1.0507\n",
            "Iteration 6/10, Training Accuracy: 0.9250\n",
            "\u001b[1m679/679\u001b[0m \u001b[32m━━━━━━━━━━━━━━━━━━━━\u001b[0m\u001b[37m\u001b[0m \u001b[1m29s\u001b[0m 43ms/step\n",
            "Epoch 1/5\n",
            "\u001b[1m45/45\u001b[0m \u001b[32m━━━━━━━━━━━━━━━━━━━━\u001b[0m\u001b[37m\u001b[0m \u001b[1m8s\u001b[0m 178ms/step - accuracy: 0.9270 - loss: 0.2057 - val_accuracy: 0.6258 - val_loss: 1.0934\n",
            "Epoch 2/5\n",
            "\u001b[1m45/45\u001b[0m \u001b[32m━━━━━━━━━━━━━━━━━━━━\u001b[0m\u001b[37m\u001b[0m \u001b[1m11s\u001b[0m 192ms/step - accuracy: 0.9356 - loss: 0.1668 - val_accuracy: 0.4654 - val_loss: 1.3403\n",
            "Epoch 3/5\n",
            "\u001b[1m45/45\u001b[0m \u001b[32m━━━━━━━━━━━━━━━━━━━━\u001b[0m\u001b[37m\u001b[0m \u001b[1m9s\u001b[0m 201ms/step - accuracy: 0.9362 - loss: 0.1536 - val_accuracy: 0.6352 - val_loss: 1.1318\n",
            "Epoch 4/5\n",
            "\u001b[1m45/45\u001b[0m \u001b[32m━━━━━━━━━━━━━━━━━━━━\u001b[0m\u001b[37m\u001b[0m \u001b[1m8s\u001b[0m 161ms/step - accuracy: 0.9362 - loss: 0.1690 - val_accuracy: 0.4497 - val_loss: 1.3534\n",
            "Epoch 5/5\n",
            "\u001b[1m45/45\u001b[0m \u001b[32m━━━━━━━━━━━━━━━━━━━━\u001b[0m\u001b[37m\u001b[0m \u001b[1m10s\u001b[0m 160ms/step - accuracy: 0.9478 - loss: 0.1379 - val_accuracy: 0.4403 - val_loss: 1.2988\n",
            "Iteration 7/10, Training Accuracy: 0.9094\n",
            "\u001b[1m676/676\u001b[0m \u001b[32m━━━━━━━━━━━━━━━━━━━━\u001b[0m\u001b[37m\u001b[0m \u001b[1m29s\u001b[0m 43ms/step\n",
            "Epoch 1/5\n",
            "\u001b[1m47/47\u001b[0m \u001b[32m━━━━━━━━━━━━━━━━━━━━\u001b[0m\u001b[37m\u001b[0m \u001b[1m8s\u001b[0m 177ms/step - accuracy: 0.9363 - loss: 0.1664 - val_accuracy: 0.4268 - val_loss: 1.2587\n",
            "Epoch 2/5\n",
            "\u001b[1m47/47\u001b[0m \u001b[32m━━━━━━━━━━━━━━━━━━━━\u001b[0m\u001b[37m\u001b[0m \u001b[1m9s\u001b[0m 161ms/step - accuracy: 0.9430 - loss: 0.1673 - val_accuracy: 0.5274 - val_loss: 1.2141\n",
            "Epoch 3/5\n",
            "\u001b[1m47/47\u001b[0m \u001b[32m━━━━━━━━━━━━━━━━━━━━\u001b[0m\u001b[37m\u001b[0m \u001b[1m10s\u001b[0m 163ms/step - accuracy: 0.9408 - loss: 0.1670 - val_accuracy: 0.5488 - val_loss: 1.2344\n",
            "Epoch 4/5\n",
            "\u001b[1m47/47\u001b[0m \u001b[32m━━━━━━━━━━━━━━━━━━━━\u001b[0m\u001b[37m\u001b[0m \u001b[1m12s\u001b[0m 195ms/step - accuracy: 0.9448 - loss: 0.1425 - val_accuracy: 0.3963 - val_loss: 1.6192\n",
            "Epoch 5/5\n",
            "\u001b[1m47/47\u001b[0m \u001b[32m━━━━━━━━━━━━━━━━━━━━\u001b[0m\u001b[37m\u001b[0m \u001b[1m9s\u001b[0m 197ms/step - accuracy: 0.9491 - loss: 0.1351 - val_accuracy: 0.3750 - val_loss: 1.5938\n",
            "Iteration 8/10, Training Accuracy: 0.8978\n",
            "\u001b[1m673/673\u001b[0m \u001b[32m━━━━━━━━━━━━━━━━━━━━\u001b[0m\u001b[37m\u001b[0m \u001b[1m29s\u001b[0m 44ms/step\n",
            "Epoch 1/5\n",
            "\u001b[1m48/48\u001b[0m \u001b[32m━━━━━━━━━━━━━━━━━━━━\u001b[0m\u001b[37m\u001b[0m \u001b[1m9s\u001b[0m 193ms/step - accuracy: 0.9359 - loss: 0.1888 - val_accuracy: 0.5473 - val_loss: 1.1385\n",
            "Epoch 2/5\n",
            "\u001b[1m48/48\u001b[0m \u001b[32m━━━━━━━━━━━━━━━━━━━━\u001b[0m\u001b[37m\u001b[0m \u001b[1m9s\u001b[0m 197ms/step - accuracy: 0.9475 - loss: 0.1336 - val_accuracy: 0.4320 - val_loss: 1.3220\n",
            "Epoch 3/5\n",
            "\u001b[1m48/48\u001b[0m \u001b[32m━━━━━━━━━━━━━━━━━━━━\u001b[0m\u001b[37m\u001b[0m \u001b[1m8s\u001b[0m 174ms/step - accuracy: 0.9486 - loss: 0.1350 - val_accuracy: 0.4467 - val_loss: 1.4315\n",
            "Epoch 4/5\n",
            "\u001b[1m48/48\u001b[0m \u001b[32m━━━━━━━━━━━━━━━━━━━━\u001b[0m\u001b[37m\u001b[0m \u001b[1m10s\u001b[0m 163ms/step - accuracy: 0.9542 - loss: 0.1217 - val_accuracy: 0.4349 - val_loss: 1.6137\n",
            "Epoch 5/5\n",
            "\u001b[1m48/48\u001b[0m \u001b[32m━━━━━━━━━━━━━━━━━━━━\u001b[0m\u001b[37m\u001b[0m \u001b[1m11s\u001b[0m 170ms/step - accuracy: 0.9531 - loss: 0.1248 - val_accuracy: 0.4112 - val_loss: 1.6430\n",
            "Iteration 9/10, Training Accuracy: 0.9230\n",
            "\u001b[1m669/669\u001b[0m \u001b[32m━━━━━━━━━━━━━━━━━━━━\u001b[0m\u001b[37m\u001b[0m \u001b[1m29s\u001b[0m 43ms/step\n",
            "Epoch 1/5\n",
            "\u001b[1m49/49\u001b[0m \u001b[32m━━━━━━━━━━━━━━━━━━━━\u001b[0m\u001b[37m\u001b[0m \u001b[1m9s\u001b[0m 192ms/step - accuracy: 0.9484 - loss: 0.1549 - val_accuracy: 0.5805 - val_loss: 1.1333\n",
            "Epoch 2/5\n",
            "\u001b[1m49/49\u001b[0m \u001b[32m━━━━━━━━━━━━━━━━━━━━\u001b[0m\u001b[37m\u001b[0m \u001b[1m9s\u001b[0m 163ms/step - accuracy: 0.9495 - loss: 0.1457 - val_accuracy: 0.5690 - val_loss: 1.2394\n",
            "Epoch 3/5\n",
            "\u001b[1m49/49\u001b[0m \u001b[32m━━━━━━━━━━━━━━━━━━━━\u001b[0m\u001b[37m\u001b[0m \u001b[1m11s\u001b[0m 178ms/step - accuracy: 0.9608 - loss: 0.1151 - val_accuracy: 0.5287 - val_loss: 1.2933\n",
            "Epoch 4/5\n",
            "\u001b[1m49/49\u001b[0m \u001b[32m━━━━━━━━━━━━━━━━━━━━\u001b[0m\u001b[37m\u001b[0m \u001b[1m11s\u001b[0m 198ms/step - accuracy: 0.9625 - loss: 0.1089 - val_accuracy: 0.4626 - val_loss: 1.4497\n",
            "Epoch 5/5\n",
            "\u001b[1m49/49\u001b[0m \u001b[32m━━━━━━━━━━━━━━━━━━━━\u001b[0m\u001b[37m\u001b[0m \u001b[1m10s\u001b[0m 200ms/step - accuracy: 0.9581 - loss: 0.1069 - val_accuracy: 0.4799 - val_loss: 1.4353\n",
            "Iteration 10/10, Training Accuracy: 0.9250\n"
          ]
        },
        {
          "output_type": "stream",
          "name": "stderr",
          "text": [
            "WARNING:absl:You are saving your model as an HDF5 file via `model.save()` or `keras.saving.save_model(model)`. This file format is considered legacy. We recommend using instead the native Keras format, e.g. `model.save('my_model.keras')` or `keras.saving.save_model(model, 'my_model.keras')`. \n"
          ]
        },
        {
          "output_type": "stream",
          "name": "stdout",
          "text": [
            "Final Accuracy: 0.8322\n"
          ]
        }
      ]
    },
    {
      "cell_type": "code",
      "source": [
        "import numpy as np\n",
        "import pandas as pd\n",
        "from keras.models import Sequential\n",
        "from keras.layers import Dense, LSTM, SpatialDropout1D, Embedding\n",
        "from tensorflow.keras.preprocessing.text import Tokenizer\n",
        "from tensorflow.keras.preprocessing.sequence import pad_sequences\n",
        "from keras.utils import to_categorical\n",
        "import nltk\n",
        "\n",
        "# Load datasets\n",
        "labeled_data = pd.read_csv('labeled_data.csv')\n",
        "political_data = pd.read_csv('Political-media-DFE.csv')\n",
        "\n",
        "# Preprocess the labeled data\n",
        "labeled_data['tweet'] = labeled_data['tweet'].apply(lambda x: x.lower())\n",
        "labeled_data['tweet'] = labeled_data['tweet'].str.replace('[^\\w\\s]', '')\n",
        "\n",
        "nltk.download('stopwords')\n",
        "stop_words = list(nltk.corpus.stopwords.words('english'))\n",
        "for stop_word in stop_words:\n",
        "    labeled_data['tweet'] = labeled_data['tweet'].str.replace(r'\\b{}\\b'.format(stop_word), '')\n",
        "\n",
        "# Preprocess the political data\n",
        "political_data['text'] = political_data['text'].apply(lambda x: x.lower())\n",
        "political_data['text'] = political_data['text'].str.replace('[^\\w\\s]', '')\n",
        "\n",
        "for stop_word in stop_words:\n",
        "    political_data['text'] = political_data['text'].str.replace(r'\\b{}\\b'.format(stop_word), '')\n",
        "\n",
        "# Tokenization and padding\n",
        "max_words = 10000\n",
        "max_len = 100\n",
        "tokenizer = Tokenizer(num_words=max_words, oov_token=\"<OOV>\")\n",
        "tokenizer.fit_on_texts(labeled_data['tweet'])\n",
        "\n",
        "# Convert text to sequences and pad\n",
        "X_train_seq = tokenizer.texts_to_sequences(labeled_data['tweet'])\n",
        "X_train_pad = pad_sequences(X_train_seq, maxlen=max_len, padding='post', truncating='post')\n",
        "y_train = labeled_data['class']\n",
        "y_train_cat = to_categorical(y_train, num_classes=3)\n",
        "\n",
        "# Prepare the political data\n",
        "political_seq = tokenizer.texts_to_sequences(political_data['text'])\n",
        "political_pad = pad_sequences(political_seq, maxlen=max_len, padding='post', truncating='post')\n",
        "\n",
        "# Define and train the LSTM model\n",
        "# Load the Keras model\n",
        "from tensorflow.keras.models import load_model\n",
        "\n",
        "model_path = '/content/lstm.h5'  # Adjust the path if needed\n",
        "model = load_model(model_path)\n",
        "\n",
        "print(\"Model Loaded\")\n",
        "\n",
        "model.compile(loss='categorical_crossentropy', optimizer=Adam(), metrics=['accuracy'])\n",
        "\n"
      ],
      "metadata": {
        "id": "-xciHMOpd1X3",
        "colab": {
          "base_uri": "https://localhost:8080/"
        },
        "outputId": "2912f9a2-c5dd-40de-e2fd-e8cdf483a87c"
      },
      "id": "-xciHMOpd1X3",
      "execution_count": 25,
      "outputs": [
        {
          "output_type": "stream",
          "name": "stderr",
          "text": [
            "[nltk_data] Downloading package stopwords to /root/nltk_data...\n",
            "[nltk_data]   Package stopwords is already up-to-date!\n",
            "WARNING:absl:Compiled the loaded model, but the compiled metrics have yet to be built. `model.compile_metrics` will be empty until you train or evaluate the model.\n"
          ]
        },
        {
          "output_type": "stream",
          "name": "stdout",
          "text": [
            "Model Loaded\n"
          ]
        }
      ]
    },
    {
      "cell_type": "code",
      "source": [
        "from tensorflow.keras.preprocessing.text import Tokenizer\n",
        "from tensorflow.keras.preprocessing.sequence import pad_sequences\n",
        "def preprocess(text):\n",
        "    # Tokenization and padding steps\n",
        "    return text  # This is a placeholder; replace with actual preprocessing\n",
        "\n",
        "# Tokenize and pad the political dataset\n",
        "tokenizer = Tokenizer(num_words=10000)  # Adjust the num_words as needed\n",
        "tokenizer.fit_on_texts(political_data['text'])\n",
        "\n",
        "# Convert text to sequences\n",
        "sequences = tokenizer.texts_to_sequences(political_data['text'])\n",
        "\n",
        "# Pad sequences to ensure uniform input size\n",
        "max_sequence_length = 100  # Adjust based on your model's input size\n",
        "padded_sequences = pad_sequences(sequences, maxlen=max_sequence_length)\n",
        "\n",
        "# Create a function to predict labels\n",
        "def predict_labels(model, sequences):\n",
        "    predictions = model.predict(sequences)\n",
        "    # If the model outputs probabilities for multiple classes, take the class with the highest probability\n",
        "    predicted_classes = np.argmax(predictions, axis=1)\n",
        "    return predicted_classes\n",
        "\n",
        "# Predict labels\n",
        "political_data['predicted_label'] = predict_labels(model, padded_sequences)\n",
        "\n",
        "print(\"Predictions Done\")\n",
        "print(political_data[['text', 'predicted_label']].head())\n"
      ],
      "metadata": {
        "id": "1b8OaJpukMkz",
        "colab": {
          "base_uri": "https://localhost:8080/"
        },
        "outputId": "46dc7570-5620-4678-8783-163ca45eb539"
      },
      "id": "1b8OaJpukMkz",
      "execution_count": 26,
      "outputs": [
        {
          "output_type": "stream",
          "name": "stdout",
          "text": [
            "\u001b[1m157/157\u001b[0m \u001b[32m━━━━━━━━━━━━━━━━━━━━\u001b[0m\u001b[37m\u001b[0m \u001b[1m7s\u001b[0m 43ms/step\n",
            "Predictions Done\n",
            "                                                text  predicted_label\n",
            "0  rt @nowthisnews: rep. trey radel (r- #fl) slam...                1\n",
            "1  video - #obamacare:  full of higher costs and ...                1\n",
            "2  please join me today in remembering our fallen...                1\n",
            "3  rt @senatorleahy: 1st step toward senate debat...                1\n",
            "4  .@amazon delivery #drones show need to update ...                1\n"
          ]
        }
      ]
    },
    {
      "cell_type": "code",
      "source": [
        "from sklearn.metrics import accuracy_score, precision_score, recall_score, f1_score\n",
        "political_data['true_label'] = np.random.randint(2, size=len(political_data))\n",
        "\n",
        "# Calculate accuracy\n",
        "accuracy = accuracy_score(political_data['true_label'], political_data['predicted_label'])\n",
        "precision = precision_score(political_data['true_label'], political_data['predicted_label'], average='weighted')\n",
        "recall = recall_score(political_data['true_label'], political_data['predicted_label'], average='weighted')\n",
        "f1 = f1_score(political_data['true_label'], political_data['predicted_label'], average='weighted')\n",
        "\n",
        "print(f\"Accuracy: {accuracy}\")\n",
        "print(f\"Precision: {precision}\")\n",
        "print(f\"Recall: {recall}\")\n",
        "print(f\"F1 Score: {f1}\")"
      ],
      "metadata": {
        "id": "XrfJoiZnkMb2",
        "colab": {
          "base_uri": "https://localhost:8080/"
        },
        "outputId": "07871f8b-c2c6-433c-81b8-461f99fe7f30"
      },
      "id": "XrfJoiZnkMb2",
      "execution_count": 27,
      "outputs": [
        {
          "output_type": "stream",
          "name": "stdout",
          "text": [
            "Accuracy: 0.5024\n",
            "Precision: 0.5257955014328716\n",
            "Recall: 0.5024\n",
            "F1 Score: 0.36956208257624085\n"
          ]
        },
        {
          "output_type": "stream",
          "name": "stderr",
          "text": [
            "/usr/local/lib/python3.10/dist-packages/sklearn/metrics/_classification.py:1471: UndefinedMetricWarning: Recall is ill-defined and being set to 0.0 in labels with no true samples. Use `zero_division` parameter to control this behavior.\n",
            "  _warn_prf(average, modifier, msg_start, len(result))\n"
          ]
        }
      ]
    },
    {
      "cell_type": "code",
      "source": [
        "# Function to calculate uncertainty (e.g., using entropy)\n",
        "def calculate_uncertainty(predictions):\n",
        "    predictions = np.array(predictions)\n",
        "    uncertainty = -np.sum(predictions * np.log(predictions + 1e-10), axis=1)\n",
        "    return uncertainty\n",
        "\n",
        "# Predict probabilities to calculate uncertainty\n",
        "probabilities = model.predict(political_pad)\n",
        "political_data['uncertainty'] = calculate_uncertainty(probabilities)\n",
        "\n",
        "# Select samples with the highest uncertainty\n",
        "uncertain_samples = political_data.nlargest(100, 'uncertainty')\n",
        "\n",
        "# Pseudo-code for manually labeling these samples\n",
        "# For demonstration purposes, we'll simulate this step\n",
        "uncertain_samples['manual_label'] = uncertain_samples['text'].apply(lambda x: np.random.choice([0, 1, 2]))\n",
        "\n",
        "# Adding manually labeled samples to the labeled dataset\n",
        "new_labels = uncertain_samples[['text', 'manual_label']].rename(columns={'text': 'tweet', 'manual_label': 'class'})\n",
        "labeled_data = pd.concat([labeled_data, new_labels])\n",
        "\n",
        "# Convert the updated labeled data to sequences and retrain the model\n",
        "X_train_seq = tokenizer.texts_to_sequences(labeled_data['tweet'])\n",
        "X_train_pad = pad_sequences(X_train_seq, maxlen=max_len, padding='post', truncating='post')\n",
        "y_train = labeled_data['class']\n",
        "y_train_cat = to_categorical(y_train, num_classes=3)\n",
        "\n",
        "model.fit(X_train_pad, y_train_cat, epochs=5, batch_size=64, validation_split=0.1)\n",
        "\n",
        "# Repeat the process for additional iterations as needed\n",
        "# Note: You can repeat the uncertainty sampling, manual labeling, and retraining steps."
      ],
      "metadata": {
        "id": "ZdNatd9ajVmj",
        "colab": {
          "base_uri": "https://localhost:8080/"
        },
        "outputId": "0f7d9c42-c9fa-455e-ac37-d233e77c8321"
      },
      "id": "ZdNatd9ajVmj",
      "execution_count": 28,
      "outputs": [
        {
          "output_type": "stream",
          "name": "stdout",
          "text": [
            "\u001b[1m157/157\u001b[0m \u001b[32m━━━━━━━━━━━━━━━━━━━━\u001b[0m\u001b[37m\u001b[0m \u001b[1m8s\u001b[0m 54ms/step\n",
            "Epoch 1/5\n",
            "\u001b[1m350/350\u001b[0m \u001b[32m━━━━━━━━━━━━━━━━━━━━\u001b[0m\u001b[37m\u001b[0m \u001b[1m71s\u001b[0m 189ms/step - accuracy: 0.7744 - loss: 0.6848 - val_accuracy: 0.7863 - val_loss: 0.6305\n",
            "Epoch 2/5\n",
            "\u001b[1m350/350\u001b[0m \u001b[32m━━━━━━━━━━━━━━━━━━━━\u001b[0m\u001b[37m\u001b[0m \u001b[1m82s\u001b[0m 188ms/step - accuracy: 0.7728 - loss: 0.6482 - val_accuracy: 0.7899 - val_loss: 0.5765\n",
            "Epoch 3/5\n",
            "\u001b[1m350/350\u001b[0m \u001b[32m━━━━━━━━━━━━━━━━━━━━\u001b[0m\u001b[37m\u001b[0m \u001b[1m83s\u001b[0m 190ms/step - accuracy: 0.7976 - loss: 0.5708 - val_accuracy: 0.8027 - val_loss: 0.5620\n",
            "Epoch 4/5\n",
            "\u001b[1m350/350\u001b[0m \u001b[32m━━━━━━━━━━━━━━━━━━━━\u001b[0m\u001b[37m\u001b[0m \u001b[1m66s\u001b[0m 189ms/step - accuracy: 0.8255 - loss: 0.5271 - val_accuracy: 0.8031 - val_loss: 0.5610\n",
            "Epoch 5/5\n",
            "\u001b[1m350/350\u001b[0m \u001b[32m━━━━━━━━━━━━━━━━━━━━\u001b[0m\u001b[37m\u001b[0m \u001b[1m81s\u001b[0m 188ms/step - accuracy: 0.8396 - loss: 0.4971 - val_accuracy: 0.7951 - val_loss: 0.5693\n"
          ]
        },
        {
          "output_type": "execute_result",
          "data": {
            "text/plain": [
              "<keras.src.callbacks.history.History at 0x7e0e28103160>"
            ]
          },
          "metadata": {},
          "execution_count": 28
        }
      ]
    },
    {
      "cell_type": "code",
      "source": [],
      "metadata": {
        "id": "qghj_eWWjVgx"
      },
      "id": "qghj_eWWjVgx",
      "execution_count": null,
      "outputs": []
    },
    {
      "cell_type": "code",
      "source": [],
      "metadata": {
        "id": "vZYKrW9jjVap"
      },
      "id": "vZYKrW9jjVap",
      "execution_count": null,
      "outputs": []
    },
    {
      "cell_type": "code",
      "source": [],
      "metadata": {
        "id": "dP72xFG7jVTJ"
      },
      "id": "dP72xFG7jVTJ",
      "execution_count": null,
      "outputs": []
    }
  ],
  "metadata": {
    "kernelspec": {
      "display_name": "Python 3",
      "name": "python3"
    },
    "language_info": {
      "codemirror_mode": {
        "name": "ipython",
        "version": 3
      },
      "file_extension": ".py",
      "mimetype": "text/x-python",
      "name": "python",
      "nbconvert_exporter": "python",
      "pygments_lexer": "ipython3",
      "version": "3.11.7"
    },
    "colab": {
      "provenance": [],
      "gpuType": "T4"
    },
    "accelerator": "GPU"
  },
  "nbformat": 4,
  "nbformat_minor": 5
}